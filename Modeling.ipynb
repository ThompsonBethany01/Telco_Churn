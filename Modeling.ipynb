{
 "cells": [
  {
   "cell_type": "markdown",
   "metadata": {},
   "source": [
    "# Creating Models to Predict Customer Churn\n",
    "## The process to create a predictive model is as follows...\n",
    "### - Aquire the Data\n",
    "- Access the database from SQL and store into a pandas dataframe\n",
    "- Summarize\n",
    "\n",
    "### - Prep the Data (stored in prepare.py or done in notebook)\n",
    "- Deal with missing values identified in preparation.ipynb\n",
    "- Create columns for new features, such as dummy variables or derived variables\n",
    "- Split the data into train, test, and validate\n",
    "\n",
    "### -  Split the Data\n",
    "#### Train\n",
    "- 70 percent of the data\n",
    "- Create models using different types (logistic regression, decision tree, etc.)\n",
    "- Adjust parameters of each model\n",
    "- Identify top 3 models used on train data\n",
    "\n",
    "#### Validate\n",
    "- 20 percent of the data\n",
    "- Determine if the models created on train overfit to the data\n",
    "- Determine the top 1 model\n",
    "\n",
    "#### Test\n",
    "- 10 percent of the data\n",
    "- Test only on the best model\n",
    "- Simulates real world, unseen data\n",
    "\n",
    "### - Explore the Data\n",
    "- Exploration on the train data set only, the rest of the data remains unseen\n",
    "- Identify Predictor Variables (X) and Target Variable (y)\n",
    "- Univariate Analysis (one variable)\n",
    "    - For continuous variables, what is the central tendency/range and are there any outliers/missing values?\n",
    "    - For discrete variables, how are they distributed?\n",
    "- Bivariate Analysis (more than one variable)\n",
    "    - Using hypothesis testing, are there any variables with a strong relationship?\n",
    "    \n",
    "### - Create Models\n",
    "- Baseline is the best guess, we want our model to perform better than this\n",
    "- Using classification models, determine the best mix of data features and model parameters for train\n",
    "- Validate the top 3 models\n",
    "- Test the best model\n",
    "\n",
    "### - Form Conclusions\n",
    "\n",
    "### - Create the CSV File"
   ]
  },
  {
   "cell_type": "markdown",
   "metadata": {},
   "source": [
    "# Imports"
   ]
  },
  {
   "cell_type": "code",
   "execution_count": 1,
   "metadata": {},
   "outputs": [
    {
     "name": "stdout",
     "output_type": "stream",
     "text": [
      "Imports complete.\n"
     ]
    }
   ],
   "source": [
    "# python files that contain the functions to aquire and prep the data\n",
    "# used in aquire and prepare steps\n",
    "import acquire\n",
    "import prepare\n",
    "\n",
    "# import python libraries\n",
    "# used throughtout the process\n",
    "import pandas as pd\n",
    "import numpy as np\n",
    "import matplotlib.pyplot as plt\n",
    "import seaborn as sns\n",
    "\n",
    "# ignoring warnings\n",
    "import warnings\n",
    "warnings.filterwarnings(\"ignore\")\n",
    "\n",
    "# importing hypothesis tests\n",
    "# used for explore\n",
    "from scipy.stats import chi2_contingency\n",
    "from scipy.stats import ttest_1samp\n",
    "from scipy.stats import ttest_ind\n",
    "\n",
    "# importing functions to create the various models\n",
    "# this project will use classification machine learning:\n",
    "# Logistic Regression, Decision Tree, Random Forest, and K-Nearest Neighbor\n",
    "# used for modeling\n",
    "from sklearn.linear_model import LogisticRegression\n",
    "from sklearn.tree import DecisionTreeClassifier\n",
    "from sklearn.ensemble import RandomForestClassifier\n",
    "from sklearn.neighbors import KNeighborsClassifier\n",
    "\n",
    "# importing functions to access model metrics, such as accuracy and the confusion matrix\n",
    "# used for modeling\n",
    "from sklearn.model_selection import train_test_split\n",
    "from sklearn.metrics import classification_report\n",
    "from sklearn.metrics import confusion_matrix\n",
    "\n",
    "print('Imports complete.')"
   ]
  },
  {
   "cell_type": "markdown",
   "metadata": {},
   "source": [
    "# Acquire\n",
    "- take a look at the data, summarize\n",
    "- look at distributions of features\n",
    "- plot features"
   ]
  },
  {
   "cell_type": "code",
   "execution_count": 2,
   "metadata": {},
   "outputs": [
    {
     "data": {
      "text/html": [
       "<div>\n",
       "<style scoped>\n",
       "    .dataframe tbody tr th:only-of-type {\n",
       "        vertical-align: middle;\n",
       "    }\n",
       "\n",
       "    .dataframe tbody tr th {\n",
       "        vertical-align: top;\n",
       "    }\n",
       "\n",
       "    .dataframe thead th {\n",
       "        text-align: right;\n",
       "    }\n",
       "</style>\n",
       "<table border=\"1\" class=\"dataframe\">\n",
       "  <thead>\n",
       "    <tr style=\"text-align: right;\">\n",
       "      <th></th>\n",
       "      <th>customer_id</th>\n",
       "      <th>gender</th>\n",
       "      <th>senior_citizen</th>\n",
       "      <th>partner</th>\n",
       "      <th>dependents</th>\n",
       "      <th>tenure</th>\n",
       "      <th>phone_service</th>\n",
       "      <th>multiple_lines</th>\n",
       "      <th>internet_service_type_id</th>\n",
       "      <th>online_security</th>\n",
       "      <th>...</th>\n",
       "      <th>streaming_movies</th>\n",
       "      <th>contract_type_id</th>\n",
       "      <th>paperless_billing</th>\n",
       "      <th>payment_type_id</th>\n",
       "      <th>monthly_charges</th>\n",
       "      <th>total_charges</th>\n",
       "      <th>churn</th>\n",
       "      <th>contract_type</th>\n",
       "      <th>payment_type</th>\n",
       "      <th>internet_service_type</th>\n",
       "    </tr>\n",
       "  </thead>\n",
       "  <tbody>\n",
       "    <tr>\n",
       "      <th>0</th>\n",
       "      <td>0003-MKNFE</td>\n",
       "      <td>Male</td>\n",
       "      <td>0</td>\n",
       "      <td>No</td>\n",
       "      <td>No</td>\n",
       "      <td>9</td>\n",
       "      <td>Yes</td>\n",
       "      <td>Yes</td>\n",
       "      <td>1</td>\n",
       "      <td>No</td>\n",
       "      <td>...</td>\n",
       "      <td>Yes</td>\n",
       "      <td>1</td>\n",
       "      <td>No</td>\n",
       "      <td>2</td>\n",
       "      <td>59.9</td>\n",
       "      <td>542.4</td>\n",
       "      <td>No</td>\n",
       "      <td>Month-to-month</td>\n",
       "      <td>Mailed check</td>\n",
       "      <td>DSL</td>\n",
       "    </tr>\n",
       "    <tr>\n",
       "      <th>1</th>\n",
       "      <td>0013-MHZWF</td>\n",
       "      <td>Female</td>\n",
       "      <td>0</td>\n",
       "      <td>No</td>\n",
       "      <td>Yes</td>\n",
       "      <td>9</td>\n",
       "      <td>Yes</td>\n",
       "      <td>No</td>\n",
       "      <td>1</td>\n",
       "      <td>No</td>\n",
       "      <td>...</td>\n",
       "      <td>Yes</td>\n",
       "      <td>1</td>\n",
       "      <td>Yes</td>\n",
       "      <td>4</td>\n",
       "      <td>69.4</td>\n",
       "      <td>571.45</td>\n",
       "      <td>No</td>\n",
       "      <td>Month-to-month</td>\n",
       "      <td>Credit card (automatic)</td>\n",
       "      <td>DSL</td>\n",
       "    </tr>\n",
       "    <tr>\n",
       "      <th>2</th>\n",
       "      <td>0015-UOCOJ</td>\n",
       "      <td>Female</td>\n",
       "      <td>1</td>\n",
       "      <td>No</td>\n",
       "      <td>No</td>\n",
       "      <td>7</td>\n",
       "      <td>Yes</td>\n",
       "      <td>No</td>\n",
       "      <td>1</td>\n",
       "      <td>Yes</td>\n",
       "      <td>...</td>\n",
       "      <td>No</td>\n",
       "      <td>1</td>\n",
       "      <td>Yes</td>\n",
       "      <td>1</td>\n",
       "      <td>48.2</td>\n",
       "      <td>340.35</td>\n",
       "      <td>No</td>\n",
       "      <td>Month-to-month</td>\n",
       "      <td>Electronic check</td>\n",
       "      <td>DSL</td>\n",
       "    </tr>\n",
       "    <tr>\n",
       "      <th>3</th>\n",
       "      <td>0023-HGHWL</td>\n",
       "      <td>Male</td>\n",
       "      <td>1</td>\n",
       "      <td>No</td>\n",
       "      <td>No</td>\n",
       "      <td>1</td>\n",
       "      <td>No</td>\n",
       "      <td>No phone service</td>\n",
       "      <td>1</td>\n",
       "      <td>No</td>\n",
       "      <td>...</td>\n",
       "      <td>No</td>\n",
       "      <td>1</td>\n",
       "      <td>Yes</td>\n",
       "      <td>1</td>\n",
       "      <td>25.1</td>\n",
       "      <td>25.1</td>\n",
       "      <td>Yes</td>\n",
       "      <td>Month-to-month</td>\n",
       "      <td>Electronic check</td>\n",
       "      <td>DSL</td>\n",
       "    </tr>\n",
       "    <tr>\n",
       "      <th>4</th>\n",
       "      <td>0032-PGELS</td>\n",
       "      <td>Female</td>\n",
       "      <td>0</td>\n",
       "      <td>Yes</td>\n",
       "      <td>Yes</td>\n",
       "      <td>1</td>\n",
       "      <td>No</td>\n",
       "      <td>No phone service</td>\n",
       "      <td>1</td>\n",
       "      <td>Yes</td>\n",
       "      <td>...</td>\n",
       "      <td>No</td>\n",
       "      <td>1</td>\n",
       "      <td>No</td>\n",
       "      <td>3</td>\n",
       "      <td>30.5</td>\n",
       "      <td>30.5</td>\n",
       "      <td>Yes</td>\n",
       "      <td>Month-to-month</td>\n",
       "      <td>Bank transfer (automatic)</td>\n",
       "      <td>DSL</td>\n",
       "    </tr>\n",
       "  </tbody>\n",
       "</table>\n",
       "<p>5 rows × 24 columns</p>\n",
       "</div>"
      ],
      "text/plain": [
       "  customer_id  gender  senior_citizen partner dependents  tenure  \\\n",
       "0  0003-MKNFE    Male               0      No         No       9   \n",
       "1  0013-MHZWF  Female               0      No        Yes       9   \n",
       "2  0015-UOCOJ  Female               1      No         No       7   \n",
       "3  0023-HGHWL    Male               1      No         No       1   \n",
       "4  0032-PGELS  Female               0     Yes        Yes       1   \n",
       "\n",
       "  phone_service    multiple_lines  internet_service_type_id online_security  \\\n",
       "0           Yes               Yes                         1              No   \n",
       "1           Yes                No                         1              No   \n",
       "2           Yes                No                         1             Yes   \n",
       "3            No  No phone service                         1              No   \n",
       "4            No  No phone service                         1             Yes   \n",
       "\n",
       "   ... streaming_movies contract_type_id paperless_billing payment_type_id  \\\n",
       "0  ...              Yes                1                No               2   \n",
       "1  ...              Yes                1               Yes               4   \n",
       "2  ...               No                1               Yes               1   \n",
       "3  ...               No                1               Yes               1   \n",
       "4  ...               No                1                No               3   \n",
       "\n",
       "  monthly_charges  total_charges churn   contract_type  \\\n",
       "0            59.9          542.4    No  Month-to-month   \n",
       "1            69.4         571.45    No  Month-to-month   \n",
       "2            48.2         340.35    No  Month-to-month   \n",
       "3            25.1           25.1   Yes  Month-to-month   \n",
       "4            30.5           30.5   Yes  Month-to-month   \n",
       "\n",
       "                payment_type internet_service_type  \n",
       "0               Mailed check                   DSL  \n",
       "1    Credit card (automatic)                   DSL  \n",
       "2           Electronic check                   DSL  \n",
       "3           Electronic check                   DSL  \n",
       "4  Bank transfer (automatic)                   DSL  \n",
       "\n",
       "[5 rows x 24 columns]"
      ]
     },
     "execution_count": 2,
     "metadata": {},
     "output_type": "execute_result"
    }
   ],
   "source": [
    "# aquiring data and using head to check everything is good\n",
    "df = acquire.get_churn_data()\n",
    "df.head()"
   ]
  },
  {
   "cell_type": "code",
   "execution_count": 3,
   "metadata": {},
   "outputs": [
    {
     "name": "stdout",
     "output_type": "stream",
     "text": [
      "<class 'pandas.core.frame.DataFrame'>\n",
      "Int64Index: 7043 entries, 0 to 7042\n",
      "Data columns (total 24 columns):\n",
      " #   Column                    Non-Null Count  Dtype  \n",
      "---  ------                    --------------  -----  \n",
      " 0   customer_id               7043 non-null   object \n",
      " 1   gender                    7043 non-null   object \n",
      " 2   senior_citizen            7043 non-null   int64  \n",
      " 3   partner                   7043 non-null   object \n",
      " 4   dependents                7043 non-null   object \n",
      " 5   tenure                    7043 non-null   int64  \n",
      " 6   phone_service             7043 non-null   object \n",
      " 7   multiple_lines            7043 non-null   object \n",
      " 8   internet_service_type_id  7043 non-null   int64  \n",
      " 9   online_security           7043 non-null   object \n",
      " 10  online_backup             7043 non-null   object \n",
      " 11  device_protection         7043 non-null   object \n",
      " 12  tech_support              7043 non-null   object \n",
      " 13  streaming_tv              7043 non-null   object \n",
      " 14  streaming_movies          7043 non-null   object \n",
      " 15  contract_type_id          7043 non-null   int64  \n",
      " 16  paperless_billing         7043 non-null   object \n",
      " 17  payment_type_id           7043 non-null   int64  \n",
      " 18  monthly_charges           7043 non-null   float64\n",
      " 19  total_charges             7043 non-null   object \n",
      " 20  churn                     7043 non-null   object \n",
      " 21  contract_type             7043 non-null   object \n",
      " 22  payment_type              7043 non-null   object \n",
      " 23  internet_service_type     7043 non-null   object \n",
      "dtypes: float64(1), int64(5), object(18)\n",
      "memory usage: 1.3+ MB\n",
      "None\n",
      "       senior_citizen       tenure  internet_service_type_id  \\\n",
      "count     7043.000000  7043.000000               7043.000000   \n",
      "mean         0.162147    32.371149                  1.872923   \n",
      "std          0.368612    24.559481                  0.737796   \n",
      "min          0.000000     0.000000                  1.000000   \n",
      "25%          0.000000     9.000000                  1.000000   \n",
      "50%          0.000000    29.000000                  2.000000   \n",
      "75%          0.000000    55.000000                  2.000000   \n",
      "max          1.000000    72.000000                  3.000000   \n",
      "\n",
      "       contract_type_id  payment_type_id  monthly_charges  \n",
      "count       7043.000000      7043.000000      7043.000000  \n",
      "mean           1.690473         2.315633        64.761692  \n",
      "std            0.833755         1.148907        30.090047  \n",
      "min            1.000000         1.000000        18.250000  \n",
      "25%            1.000000         1.000000        35.500000  \n",
      "50%            1.000000         2.000000        70.350000  \n",
      "75%            2.000000         3.000000        89.850000  \n",
      "max            3.000000         4.000000       118.750000  \n"
     ]
    }
   ],
   "source": [
    "print(df.info())\n",
    "\n",
    "print(df.describe())"
   ]
  },
  {
   "cell_type": "code",
   "execution_count": 4,
   "metadata": {},
   "outputs": [
    {
     "name": "stdout",
     "output_type": "stream",
     "text": [
      "\n",
      "customer_id\n",
      "1384-RCUXW    1\n",
      "0133-BMFZO    1\n",
      "5299-RULOA    1\n",
      "7660-HDPJV    1\n",
      "6285-FTQBF    1\n",
      "             ..\n",
      "4727-MCYZG    1\n",
      "8217-QYOHV    1\n",
      "8120-JDCAM    1\n",
      "2883-ILGWO    1\n",
      "3407-JMJQQ    1\n",
      "Name: customer_id, Length: 7043, dtype: int64\n",
      "\n",
      "gender\n",
      "Male      3555\n",
      "Female    3488\n",
      "Name: gender, dtype: int64\n",
      "\n",
      "senior_citizen\n",
      "0    5901\n",
      "1    1142\n",
      "Name: senior_citizen, dtype: int64\n",
      "\n",
      "partner\n",
      "No     3641\n",
      "Yes    3402\n",
      "Name: partner, dtype: int64\n",
      "\n",
      "dependents\n",
      "No     4933\n",
      "Yes    2110\n",
      "Name: dependents, dtype: int64\n",
      "\n",
      "tenure\n",
      "1     613\n",
      "72    362\n",
      "2     238\n",
      "3     200\n",
      "4     176\n",
      "     ... \n",
      "28     57\n",
      "39     56\n",
      "44     51\n",
      "36     50\n",
      "0      11\n",
      "Name: tenure, Length: 73, dtype: int64\n",
      "\n",
      "phone_service\n",
      "Yes    6361\n",
      "No      682\n",
      "Name: phone_service, dtype: int64\n",
      "\n",
      "multiple_lines\n",
      "No                  3390\n",
      "Yes                 2971\n",
      "No phone service     682\n",
      "Name: multiple_lines, dtype: int64\n",
      "\n",
      "internet_service_type_id\n",
      "2    3096\n",
      "1    2421\n",
      "3    1526\n",
      "Name: internet_service_type_id, dtype: int64\n",
      "\n",
      "online_security\n",
      "No                     3498\n",
      "Yes                    2019\n",
      "No internet service    1526\n",
      "Name: online_security, dtype: int64\n",
      "\n",
      "online_backup\n",
      "No                     3088\n",
      "Yes                    2429\n",
      "No internet service    1526\n",
      "Name: online_backup, dtype: int64\n",
      "\n",
      "device_protection\n",
      "No                     3095\n",
      "Yes                    2422\n",
      "No internet service    1526\n",
      "Name: device_protection, dtype: int64\n",
      "\n",
      "tech_support\n",
      "No                     3473\n",
      "Yes                    2044\n",
      "No internet service    1526\n",
      "Name: tech_support, dtype: int64\n",
      "\n",
      "streaming_tv\n",
      "No                     2810\n",
      "Yes                    2707\n",
      "No internet service    1526\n",
      "Name: streaming_tv, dtype: int64\n",
      "\n",
      "streaming_movies\n",
      "No                     2785\n",
      "Yes                    2732\n",
      "No internet service    1526\n",
      "Name: streaming_movies, dtype: int64\n",
      "\n",
      "contract_type_id\n",
      "1    3875\n",
      "3    1695\n",
      "2    1473\n",
      "Name: contract_type_id, dtype: int64\n",
      "\n",
      "paperless_billing\n",
      "Yes    4171\n",
      "No     2872\n",
      "Name: paperless_billing, dtype: int64\n",
      "\n",
      "payment_type_id\n",
      "1    2365\n",
      "2    1612\n",
      "3    1544\n",
      "4    1522\n",
      "Name: payment_type_id, dtype: int64\n",
      "\n",
      "monthly_charges\n",
      "20.05     61\n",
      "19.85     45\n",
      "19.90     44\n",
      "19.95     44\n",
      "19.65     43\n",
      "          ..\n",
      "114.75     1\n",
      "58.70      1\n",
      "31.65      1\n",
      "68.90      1\n",
      "76.80      1\n",
      "Name: monthly_charges, Length: 1585, dtype: int64\n",
      "\n",
      "total_charges\n",
      "20.2       11\n",
      "           11\n",
      "19.75       9\n",
      "19.9        8\n",
      "19.65       8\n",
      "           ..\n",
      "5376.4      1\n",
      "834.7       1\n",
      "1346.2      1\n",
      "1972.35     1\n",
      "162.15      1\n",
      "Name: total_charges, Length: 6531, dtype: int64\n",
      "\n",
      "churn\n",
      "No     5174\n",
      "Yes    1869\n",
      "Name: churn, dtype: int64\n",
      "\n",
      "contract_type\n",
      "Month-to-month    3875\n",
      "Two year          1695\n",
      "One year          1473\n",
      "Name: contract_type, dtype: int64\n",
      "\n",
      "payment_type\n",
      "Electronic check             2365\n",
      "Mailed check                 1612\n",
      "Bank transfer (automatic)    1544\n",
      "Credit card (automatic)      1522\n",
      "Name: payment_type, dtype: int64\n",
      "\n",
      "internet_service_type\n",
      "Fiber optic    3096\n",
      "DSL            2421\n",
      "None           1526\n",
      "Name: internet_service_type, dtype: int64\n"
     ]
    }
   ],
   "source": [
    "# Looking at the value counts for each column\n",
    "# Use a for loop to iterate over each column and print the value counts\n",
    "for column in df.columns:\n",
    "    print(\"\\n\" + column)\n",
    "    print(df[column].value_counts())"
   ]
  },
  {
   "cell_type": "code",
   "execution_count": 5,
   "metadata": {},
   "outputs": [
    {
     "data": {
      "image/png": "[encoded data removed]",
      "text/plain": [
       "<Figure size 1800x1080 with 9 Axes>"
      ]
     },
     "metadata": {
      "needs_background": "light"
     },
     "output_type": "display_data"
    }
   ],
   "source": [
    "# Construct a figure with subplots of histograms of features\n",
    "\n",
    "# sets size, can adjust to liking\n",
    "plt.subplots(figsize=(25, 15))\n",
    "\n",
    "# plt.subplot(rows,columns,sequence plotted)\n",
    "\n",
    "plt.subplot(3,3,1);\n",
    "line1 = plt.hist(df.monthly_charges)\n",
    "plt.title('monthly_charges');\n",
    "\n",
    "plt.subplot(3,3,2);\n",
    "line2 = plt.hist(df.tech_support);\n",
    "plt.title('tech_support');\n",
    "\n",
    "plt.subplot(3,3,3);\n",
    "line3 = plt.hist(df.payment_type);\n",
    "plt.title('payment_type');\n",
    "\n",
    "plt.subplot(3,3,4);\n",
    "line4 = plt.hist(df.contract_type);\n",
    "plt.title('contract_type');\n",
    "\n",
    "plt.subplot(3,3,5);\n",
    "line1 = plt.hist(df.paperless_billing)\n",
    "plt.title('paperless_billing');\n",
    "\n",
    "plt.subplot(3,3,6);\n",
    "line2 = plt.hist(df.senior_citizen);\n",
    "plt.title('senior_citizen');\n",
    "\n",
    "plt.subplot(3,3,7);\n",
    "line3 = plt.hist(df.tenure);\n",
    "plt.title('tenure');\n",
    "\n",
    "plt.subplot(3,3,8);\n",
    "line4 = plt.hist(df.device_protection);\n",
    "plt.title('device_protection');\n",
    "\n",
    "plt.subplot(3,3,9);\n",
    "line4 = plt.hist(df.phone_service);\n",
    "plt.title('phone_service');"
   ]
  },
  {
   "cell_type": "markdown",
   "metadata": {},
   "source": [
    "### Takeaways\n",
    "- Many columns are being represented with strings, need to be converted to integers for exploration and modeling\n",
    "- Average tenure is 32 months, with a stddev of 25 months (big\n",
    "- Columns that are yes/no and no internet can be simplified to yes or no\n",
    "- Tenure is highest at the beginning of service and at the end towards 70 months\n",
    "- Most monthly charges are at around 20-30$/month (the first quartile)"
   ]
  },
  {
   "cell_type": "markdown",
   "metadata": {},
   "source": [
    "# Prep\n",
    "- Explore outliers, duplicates, etc\n",
    "- Create dummy variables\n",
    "- Feature Engineering"
   ]
  },
  {
   "cell_type": "code",
   "execution_count": 6,
   "metadata": {},
   "outputs": [
    {
     "name": "stdout",
     "output_type": "stream",
     "text": [
      "Duplicate observations: 0\n"
     ]
    }
   ],
   "source": [
    "# First, check for duplicate observations\n",
    "print('Duplicate observations:', df.duplicated().sum())"
   ]
  },
  {
   "cell_type": "markdown",
   "metadata": {},
   "source": [
    "### Preparations Taken\n",
    "- created column for tenure in months\n",
    "    - first renamed tenure to tenure months for distinstion\n",
    "    - tenure/12\n",
    "- df.sex has values 'Male' and 'Female'\n",
    "    - changed to dummy var, 'Male'\n",
    "- Columns with strings 'Yes' and 'No' can be replaced with 1 and 0\n",
    "    - used df.replace({'Yes':'1','No':'0'})\n",
    "        - partner\n",
    "        - dependents\n",
    "        - phone service\n",
    "        - paperless billing\n",
    "        - churn\n",
    "- Other columns are more complex, have 'Yes','No','No internet service'\n",
    "    - used df.replace({'Yes':'1','No':'0','No internet service':0})\n",
    "    - Combining No whether or not it is because they do not have internet service\n",
    "    - Will have another feature for type of service they have which will make up for this\n",
    "        - multiple lines ('no phone service')\n",
    "        - online security\n",
    "        - online backup\n",
    "        - device protection\n",
    "        - tech support\n",
    "        - streaming tv/streaming movies\n",
    "- Other columns that needed to be converted\n",
    "    - internet service type\n",
    "        - changed 'no internet service' to 0 to be intuitive\n",
    "    - contract type\n",
    "        - changed monthly, 1yr, 2yr, to 0,1,2 to be intuitive\n",
    "    - payment type\n",
    "        - simplified to automatic or not, 0 or 1\n",
    "    - service type\n",
    "    - indicates if customer is 1 for phone only, 2 for internet only, or 3 for both\n",
    "        - replaced phone service to 1 for if any phones lines\n",
    "        - replaced internet service to 2 if either internet service type\n",
    "        - added them together for new column\n",
    "- Convert total_charges to an integer, originally an object type\n",
    "    - gives an error when converting \"could not convert string to float:\"\n",
    "    - no nulls are found because there are empty values for customers with no tenure\n",
    "    - they have not been charged, but all have yearly contracts\n",
    "    - filling the values with 0"
   ]
  },
  {
   "cell_type": "code",
   "execution_count": 7,
   "metadata": {},
   "outputs": [
    {
     "name": "stdout",
     "output_type": "stream",
     "text": [
      "No duplicates found.\n",
      "Dummy variables for gender created as \"male\".\n",
      "Yes/No column values changed to boolean, 0 as no and 1 as yes\n",
      "Combined variable for phone_service + multiple lines created.\n",
      "Combined variable for partner + dependents created.\n",
      "Simplified features: security, backup, protection, support, contract, internet type, and payment type.\n",
      "Column for service type added.\n",
      "Added feature for tenure in years.\n",
      "Converted total_charges to float for easier manipulation.\n",
      "Data prep complete.\n",
      "\n",
      "\n"
     ]
    }
   ],
   "source": [
    "# print statements within the prepare function are a reminder for features changed\n",
    "# prep the data with the Prepare file\n",
    "df = prepare.prep_telco_df(df)"
   ]
  },
  {
   "cell_type": "code",
   "execution_count": 8,
   "metadata": {},
   "outputs": [
    {
     "name": "stdout",
     "output_type": "stream",
     "text": [
      "train shape:  (5070, 23) , validate shape:  (1268, 23) , test shape:  (705, 23)\n",
      "\n",
      "train percent:  72.0 , validate percent:  18.0 , test percent:  10.0\n"
     ]
    }
   ],
   "source": [
    "# splitting the data from our prepare function\n",
    "# print statements ensure it is split correctly and that the ratios are correct\n",
    "train, test, validate = prepare.train_test_validate(df)"
   ]
  },
  {
   "cell_type": "markdown",
   "metadata": {},
   "source": [
    "# Explore\n",
    "- distinguish categorical and continuous variables\n",
    "- determine X and y variables\n",
    "- what factores drive churn?\n",
    "    - determine with hypothesis testing\n",
    "    - visualize with plots\n",
    "- determine if more prep is needed\n",
    "    - do we need other dummy variables or features"
   ]
  },
  {
   "cell_type": "code",
   "execution_count": 9,
   "metadata": {},
   "outputs": [
    {
     "data": {
      "text/html": [
       "<div>\n",
       "<style scoped>\n",
       "    .dataframe tbody tr th:only-of-type {\n",
       "        vertical-align: middle;\n",
       "    }\n",
       "\n",
       "    .dataframe tbody tr th {\n",
       "        vertical-align: top;\n",
       "    }\n",
       "\n",
       "    .dataframe thead th {\n",
       "        text-align: right;\n",
       "    }\n",
       "</style>\n",
       "<table border=\"1\" class=\"dataframe\">\n",
       "  <thead>\n",
       "    <tr style=\"text-align: right;\">\n",
       "      <th></th>\n",
       "      <th>855</th>\n",
       "      <th>2823</th>\n",
       "      <th>5656</th>\n",
       "    </tr>\n",
       "  </thead>\n",
       "  <tbody>\n",
       "    <tr>\n",
       "      <th>customer_id</th>\n",
       "      <td>6923-EFPNL</td>\n",
       "      <td>2004-OCQXK</td>\n",
       "      <td>2542-HYGIQ</td>\n",
       "    </tr>\n",
       "    <tr>\n",
       "      <th>senior_citizen</th>\n",
       "      <td>0</td>\n",
       "      <td>0</td>\n",
       "      <td>0</td>\n",
       "    </tr>\n",
       "    <tr>\n",
       "      <th>tenure_months</th>\n",
       "      <td>4</td>\n",
       "      <td>1</td>\n",
       "      <td>1</td>\n",
       "    </tr>\n",
       "    <tr>\n",
       "      <th>phone_service</th>\n",
       "      <td>2</td>\n",
       "      <td>1</td>\n",
       "      <td>1</td>\n",
       "    </tr>\n",
       "    <tr>\n",
       "      <th>online_security</th>\n",
       "      <td>0</td>\n",
       "      <td>0</td>\n",
       "      <td>0</td>\n",
       "    </tr>\n",
       "    <tr>\n",
       "      <th>online_backup</th>\n",
       "      <td>0</td>\n",
       "      <td>0</td>\n",
       "      <td>0</td>\n",
       "    </tr>\n",
       "    <tr>\n",
       "      <th>device_protection</th>\n",
       "      <td>0</td>\n",
       "      <td>0</td>\n",
       "      <td>0</td>\n",
       "    </tr>\n",
       "    <tr>\n",
       "      <th>tech_support</th>\n",
       "      <td>0</td>\n",
       "      <td>0</td>\n",
       "      <td>0</td>\n",
       "    </tr>\n",
       "    <tr>\n",
       "      <th>streaming_tv</th>\n",
       "      <td>0</td>\n",
       "      <td>0</td>\n",
       "      <td>0</td>\n",
       "    </tr>\n",
       "    <tr>\n",
       "      <th>streaming_movies</th>\n",
       "      <td>0</td>\n",
       "      <td>1</td>\n",
       "      <td>0</td>\n",
       "    </tr>\n",
       "    <tr>\n",
       "      <th>contract_type_id</th>\n",
       "      <td>1</td>\n",
       "      <td>1</td>\n",
       "      <td>1</td>\n",
       "    </tr>\n",
       "    <tr>\n",
       "      <th>paperless_billing</th>\n",
       "      <td>0</td>\n",
       "      <td>1</td>\n",
       "      <td>0</td>\n",
       "    </tr>\n",
       "    <tr>\n",
       "      <th>payment_type_id</th>\n",
       "      <td>4</td>\n",
       "      <td>1</td>\n",
       "      <td>4</td>\n",
       "    </tr>\n",
       "    <tr>\n",
       "      <th>monthly_charges</th>\n",
       "      <td>51.75</td>\n",
       "      <td>81.95</td>\n",
       "      <td>19.95</td>\n",
       "    </tr>\n",
       "    <tr>\n",
       "      <th>total_charges</th>\n",
       "      <td>201.1</td>\n",
       "      <td>81.95</td>\n",
       "      <td>19.95</td>\n",
       "    </tr>\n",
       "    <tr>\n",
       "      <th>churn</th>\n",
       "      <td>1</td>\n",
       "      <td>1</td>\n",
       "      <td>0</td>\n",
       "    </tr>\n",
       "    <tr>\n",
       "      <th>contract_type</th>\n",
       "      <td>0</td>\n",
       "      <td>0</td>\n",
       "      <td>0</td>\n",
       "    </tr>\n",
       "    <tr>\n",
       "      <th>auto_payment</th>\n",
       "      <td>1</td>\n",
       "      <td>0</td>\n",
       "      <td>1</td>\n",
       "    </tr>\n",
       "    <tr>\n",
       "      <th>internet_service_type</th>\n",
       "      <td>1</td>\n",
       "      <td>1</td>\n",
       "      <td>0</td>\n",
       "    </tr>\n",
       "    <tr>\n",
       "      <th>Male</th>\n",
       "      <td>1</td>\n",
       "      <td>0</td>\n",
       "      <td>0</td>\n",
       "    </tr>\n",
       "    <tr>\n",
       "      <th>part_depd</th>\n",
       "      <td>0</td>\n",
       "      <td>0</td>\n",
       "      <td>0</td>\n",
       "    </tr>\n",
       "    <tr>\n",
       "      <th>service_type</th>\n",
       "      <td>3</td>\n",
       "      <td>3</td>\n",
       "      <td>1</td>\n",
       "    </tr>\n",
       "    <tr>\n",
       "      <th>tenure_years</th>\n",
       "      <td>0.33</td>\n",
       "      <td>0.08</td>\n",
       "      <td>0.08</td>\n",
       "    </tr>\n",
       "  </tbody>\n",
       "</table>\n",
       "</div>"
      ],
      "text/plain": [
       "                             855         2823        5656\n",
       "customer_id            6923-EFPNL  2004-OCQXK  2542-HYGIQ\n",
       "senior_citizen                  0           0           0\n",
       "tenure_months                   4           1           1\n",
       "phone_service                   2           1           1\n",
       "online_security                 0           0           0\n",
       "online_backup                   0           0           0\n",
       "device_protection               0           0           0\n",
       "tech_support                    0           0           0\n",
       "streaming_tv                    0           0           0\n",
       "streaming_movies                0           1           0\n",
       "contract_type_id                1           1           1\n",
       "paperless_billing               0           1           0\n",
       "payment_type_id                 4           1           4\n",
       "monthly_charges             51.75       81.95       19.95\n",
       "total_charges               201.1       81.95       19.95\n",
       "churn                           1           1           0\n",
       "contract_type                   0           0           0\n",
       "auto_payment                    1           0           1\n",
       "internet_service_type           1           1           0\n",
       "Male                            1           0           0\n",
       "part_depd                       0           0           0\n",
       "service_type                    3           3           1\n",
       "tenure_years                 0.33        0.08        0.08"
      ]
     },
     "execution_count": 9,
     "metadata": {},
     "output_type": "execute_result"
    }
   ],
   "source": [
    "# a look at each feature, was the data prepped correctly?\n",
    "# Churn is the target (y) variable, it is what we are trying to predict\n",
    "train.head(3).T"
   ]
  },
  {
   "cell_type": "markdown",
   "metadata": {},
   "source": [
    "### Categorical vs. Continuous Features\n",
    "- Categorical\n",
    "    - senior citizen\n",
    "    - gender\n",
    "    - phone service\n",
    "    - internet service\n",
    "    - security\n",
    "    - backup\n",
    "    - device protection\n",
    "    - tech support\n",
    "    - streaming\n",
    "    - contract\n",
    "    - partner+dependents\n",
    "    - CHURN (our target variable)\n",
    "- Continuous\n",
    "    - total charges\n",
    "    - monthly charges\n",
    "    - tenure in months\n",
    "    - tenure in years"
   ]
  },
  {
   "cell_type": "markdown",
   "metadata": {},
   "source": [
    "## For a quick overall look at features and how they correlate to each other, we start with a sns correlation heatmap"
   ]
  },
  {
   "cell_type": "code",
   "execution_count": 10,
   "metadata": {},
   "outputs": [
    {
     "data": {
      "text/plain": [
       "<matplotlib.axes._subplots.AxesSubplot at 0x7fa8e9962310>"
      ]
     },
     "execution_count": 10,
     "metadata": {},
     "output_type": "execute_result"
    },
    {
     "data": {
      "image/png": "[encoded data removed]",
      "text/plain": [
       "<Figure size 936x720 with 2 Axes>"
      ]
     },
     "metadata": {
      "needs_background": "light"
     },
     "output_type": "display_data"
    }
   ],
   "source": [
    "# Correlation heat map\n",
    "# creating the correlation of each feature against each other\n",
    "corr = train.corr()\n",
    "\n",
    "# Generate a mask for the upper triangle, prints out only the bottom triangle\n",
    "mask = np.triu(np.ones_like(corr, dtype=bool))\n",
    "\n",
    "# Set up the matplotlib figure, sets size\n",
    "f, ax = plt.subplots(figsize=(13, 10))\n",
    "\n",
    "# Generate a custom diverging colormap, changing default colors\n",
    "cmap = sns.diverging_palette(230, 20, as_cmap=True)\n",
    "\n",
    "# Draw the heatmap with the mask and correct aspect ratio\n",
    "sns.heatmap(corr, mask=mask, cmap=cmap, vmax=.3, center=0,\n",
    "            square=True, linewidths=.5, cbar_kws={\"shrink\": .5})"
   ]
  },
  {
   "cell_type": "markdown",
   "metadata": {},
   "source": [
    "### Takeaways\n",
    "- highest correlation are the darker blue or red colors\n",
    "- intuitive correlations, such as tenure being negative (increasing while churn decreases)\n",
    "- the darkest colors associated with churn are \n",
    "    - contract type (negative)\n",
    "    - service type (positive)\n",
    "    - tenure (negative)\n",
    "    - total charges (positive)\n",
    "    - monthly charges (negative)\n",
    "    - automatic payment (negative)\n",
    "    - tech support (negative, lower)\n",
    "    - online_security (negative, lower)"
   ]
  },
  {
   "cell_type": "markdown",
   "metadata": {},
   "source": [
    "## Tech Support\n",
    "- Does tech support reduce churn?\n",
    "- The correlation map above suggested a slight correlation, let's test a hypothesis with chi-squared\n",
    "    - Null hypothesis: churn is independent from tech support\n",
    "    - Alternative hypothesis: churn is dependent on tech support"
   ]
  },
  {
   "cell_type": "code",
   "execution_count": 11,
   "metadata": {},
   "outputs": [
    {
     "name": "stdout",
     "output_type": "stream",
     "text": [
      "Observed\n",
      "\n",
      "[[2474 1134]\n",
      " [1246  216]]\n",
      "---\n",
      "Expected\n",
      "\n",
      "[[2647.28994083  960.71005917]\n",
      " [1072.71005917  389.28994083]]\n",
      "---\n",
      "\n",
      "chi^2 = 146.8825\n",
      "p     = 0.0000\n",
      "\n",
      "P is less than alpha. We reject the null hypothesis.\n"
     ]
    }
   ],
   "source": [
    "# NOT CONTROLLING FOR SERVICE TYPE\n",
    "# creating a cross tab of customers with/without tech support and is/is not churned\n",
    "observed1 = pd.crosstab(train.tech_support, train.churn)\n",
    "\n",
    "# setting alpha value\n",
    "a = .01\n",
    "\n",
    "# scipy function calculates values based on the crosstab created\n",
    "chi2, p, degf, expected = chi2_contingency(observed1)\n",
    "\n",
    "print('Observed\\n')\n",
    "print(observed1.values)\n",
    "print('---\\nExpected\\n')\n",
    "print(expected)\n",
    "print('---\\n')\n",
    "print(f'chi^2 = {chi2:.4f}')\n",
    "print(f'p     = {p:.4f}')\n",
    "\n",
    "if p < a:\n",
    "    print('\\nP is less than alpha. We reject the null hypothesis.')"
   ]
  },
  {
   "cell_type": "code",
   "execution_count": 12,
   "metadata": {},
   "outputs": [
    {
     "data": {
      "text/html": [
       "<div>\n",
       "<style scoped>\n",
       "    .dataframe tbody tr th:only-of-type {\n",
       "        vertical-align: middle;\n",
       "    }\n",
       "\n",
       "    .dataframe tbody tr th {\n",
       "        vertical-align: top;\n",
       "    }\n",
       "\n",
       "    .dataframe thead th {\n",
       "        text-align: right;\n",
       "    }\n",
       "</style>\n",
       "<table border=\"1\" class=\"dataframe\">\n",
       "  <thead>\n",
       "    <tr style=\"text-align: right;\">\n",
       "      <th>churn</th>\n",
       "      <th>0</th>\n",
       "      <th>1</th>\n",
       "    </tr>\n",
       "    <tr>\n",
       "      <th>tech_support</th>\n",
       "      <th></th>\n",
       "      <th></th>\n",
       "    </tr>\n",
       "  </thead>\n",
       "  <tbody>\n",
       "    <tr>\n",
       "      <th>0</th>\n",
       "      <td>2474</td>\n",
       "      <td>1134</td>\n",
       "    </tr>\n",
       "    <tr>\n",
       "      <th>1</th>\n",
       "      <td>1246</td>\n",
       "      <td>216</td>\n",
       "    </tr>\n",
       "  </tbody>\n",
       "</table>\n",
       "</div>"
      ],
      "text/plain": [
       "churn            0     1\n",
       "tech_support            \n",
       "0             2474  1134\n",
       "1             1246   216"
      ]
     },
     "execution_count": 12,
     "metadata": {},
     "output_type": "execute_result"
    }
   ],
   "source": [
    "# for reference on layout of observed table\n",
    "observed1"
   ]
  },
  {
   "cell_type": "code",
   "execution_count": 13,
   "metadata": {},
   "outputs": [
    {
     "name": "stdout",
     "output_type": "stream",
     "text": [
      "Observed\n",
      "\n",
      "[[1484 1046]\n",
      " [1246  216]]\n",
      "---\n",
      "Expected\n",
      "\n",
      "[[1730.18537074  799.81462926]\n",
      " [ 999.81462926  462.18537074]]\n",
      "---\n",
      "\n",
      "chi^2 = 301.3286\n",
      "p     = 0.0000\n",
      "\n",
      "P is less than alpha. We reject the null hypothesis.\n"
     ]
    }
   ],
   "source": [
    "# CONTROLLING FOR SERVICE TYPE\n",
    "# Only customers with internet service can choose tech support, would calculating on internet customers change anything\n",
    "\n",
    "train_internet = train[train.internet_service_type != 0]\n",
    "\n",
    "# creating a cross tab of customers with/without tech support and is/is not churned from only internet service customers\n",
    "observed2 = pd.crosstab(train_internet.tech_support, train_internet.churn)\n",
    "\n",
    "# scipy function calculates values based on the crosstab created\n",
    "chi2, p, degf, expected = chi2_contingency(observed2)\n",
    "\n",
    "print('Observed\\n')\n",
    "print(observed2.values)\n",
    "print('---\\nExpected\\n')\n",
    "print(expected)\n",
    "print('---\\n')\n",
    "print(f'chi^2 = {chi2:.4f}')\n",
    "print(f'p     = {p:.4f}')\n",
    "\n",
    "if p < a:\n",
    "    print('\\nP is less than alpha. We reject the null hypothesis.')"
   ]
  },
  {
   "cell_type": "code",
   "execution_count": 14,
   "metadata": {},
   "outputs": [
    {
     "data": {
      "text/html": [
       "<div>\n",
       "<style scoped>\n",
       "    .dataframe tbody tr th:only-of-type {\n",
       "        vertical-align: middle;\n",
       "    }\n",
       "\n",
       "    .dataframe tbody tr th {\n",
       "        vertical-align: top;\n",
       "    }\n",
       "\n",
       "    .dataframe thead th {\n",
       "        text-align: right;\n",
       "    }\n",
       "</style>\n",
       "<table border=\"1\" class=\"dataframe\">\n",
       "  <thead>\n",
       "    <tr style=\"text-align: right;\">\n",
       "      <th>churn</th>\n",
       "      <th>0</th>\n",
       "      <th>1</th>\n",
       "    </tr>\n",
       "    <tr>\n",
       "      <th>tech_support</th>\n",
       "      <th></th>\n",
       "      <th></th>\n",
       "    </tr>\n",
       "  </thead>\n",
       "  <tbody>\n",
       "    <tr>\n",
       "      <th>0</th>\n",
       "      <td>1484</td>\n",
       "      <td>1046</td>\n",
       "    </tr>\n",
       "    <tr>\n",
       "      <th>1</th>\n",
       "      <td>1246</td>\n",
       "      <td>216</td>\n",
       "    </tr>\n",
       "  </tbody>\n",
       "</table>\n",
       "</div>"
      ],
      "text/plain": [
       "churn            0     1\n",
       "tech_support            \n",
       "0             1484  1046\n",
       "1             1246   216"
      ]
     },
     "execution_count": 14,
     "metadata": {},
     "output_type": "execute_result"
    }
   ],
   "source": [
    "# for reference on layout of observed table\n",
    "observed2"
   ]
  },
  {
   "cell_type": "markdown",
   "metadata": {},
   "source": [
    "### Takeaways\n",
    "- The chi-squared statistic is a single number that tells you how much difference exists between your observed counts and the counts you would expect if there were no relationship at all in the population\n",
    "- This number is higher when controlling for internet service only customers\n",
    "- This shows the difference between churn or not is higher when all customers have the option\n",
    "    - Churn rate for all customers when not having tech support = .31\n",
    "        - 1 / (0 + 1) from observed cross tab with 0 tech support\n",
    "        - 1134 / (1134 + 2474)\n",
    "    - Churn rate for internet customers when not having tech support = .41\n",
    "        - 1 / (0 + 1) from observed cross tab with 1 tech support\n",
    "        - 1046 / (1046 + 1484)"
   ]
  },
  {
   "cell_type": "code",
   "execution_count": 15,
   "metadata": {},
   "outputs": [
    {
     "data": {
      "text/plain": [
       "Text(0.5, 1, 'Count of Churned Internet Only Customers by Tech Support')"
      ]
     },
     "execution_count": 15,
     "metadata": {},
     "output_type": "execute_result"
    },
    {
     "data": {
      "image/png": "[encoded data removed]",
      "text/plain": [
       "<Figure size 402.375x360 with 1 Axes>"
      ]
     },
     "metadata": {
      "needs_background": "light"
     },
     "output_type": "display_data"
    }
   ],
   "source": [
    "# visual for count of internet customers that have churned or not by tech support\n",
    "sns.displot(train_internet, x=\"tech_support\",hue=\"churn\", multiple='stack')\n",
    "plt.title('Count of Churned Internet Only Customers by Tech Support')"
   ]
  },
  {
   "cell_type": "markdown",
   "metadata": {},
   "source": [
    "## Automatic Payment\n",
    "- Does having automatic payments cause lower or higher churn?\n",
    "- The heat map suggested a correlation between churn and auto_payments, let's test with chi-square again\n",
    "    - Null hypothesis: Having automatic payments is independent from a customer leaving\n",
    "    - Null hypothesis: Having automatic payments is independent from a customer leaving"
   ]
  },
  {
   "cell_type": "code",
   "execution_count": 16,
   "metadata": {},
   "outputs": [
    {
     "name": "stdout",
     "output_type": "stream",
     "text": [
      "Observed\n",
      "\n",
      "[[1853 1003]\n",
      " [1867  347]]\n",
      "---\n",
      "Expected\n",
      "\n",
      "[[2095.52662722  760.47337278]\n",
      " [1624.47337278  589.52662722]]\n",
      "---\n",
      "\n",
      "chi^2 = 240.4018\n",
      "p     = 0.0000\n",
      "\n",
      "P is less than alpha. We reject the null hypothesis.\n"
     ]
    }
   ],
   "source": [
    "# creating a cross tab of customers with/without automatic payment and is/is not churned\n",
    "observed3 = pd.crosstab(train.auto_payment, train.churn)\n",
    "\n",
    "# setting alpha value\n",
    "a = .01\n",
    "\n",
    "# scipy function calculates values based on the crosstab created\n",
    "chi2, p, degf, expected = chi2_contingency(observed3)\n",
    "\n",
    "print('Observed\\n')\n",
    "print(observed3.values)\n",
    "print('---\\nExpected\\n')\n",
    "print(expected)\n",
    "print('---\\n')\n",
    "print(f'chi^2 = {chi2:.4f}')\n",
    "print(f'p     = {p:.4f}')\n",
    "\n",
    "if p < a:\n",
    "    print('\\nP is less than alpha. We reject the null hypothesis.')\n",
    "    \n",
    "if p > a:\n",
    "    print('\\nP is greater than alpha. We fail to reject the null hypothesis.')"
   ]
  },
  {
   "cell_type": "code",
   "execution_count": 17,
   "metadata": {},
   "outputs": [
    {
     "data": {
      "text/plain": [
       "Text(0.5, 1, 'Churn Count for Customers With and Without Automatic Payments')"
      ]
     },
     "execution_count": 17,
     "metadata": {},
     "output_type": "execute_result"
    },
    {
     "data": {
      "image/png": "[encoded data removed]",
      "text/plain": [
       "<Figure size 402.375x360 with 1 Axes>"
      ]
     },
     "metadata": {
      "needs_background": "light"
     },
     "output_type": "display_data"
    }
   ],
   "source": [
    "# plotting the distribution of churn by automatic payment\n",
    "sns.displot(train, x=train.auto_payment, hue=train.churn, multiple='stack')\n",
    "plt.title('Churn Count for Customers With and Without Automatic Payments')"
   ]
  },
  {
   "cell_type": "markdown",
   "metadata": {},
   "source": [
    "## Service Type"
   ]
  },
  {
   "cell_type": "markdown",
   "metadata": {},
   "source": [
    "### Two-Sample, T-Test\n",
    "- Is one service type more likely to churn?\n",
    "    - Null hypothesis: both services have equivalent churn\n",
    "    - Alternative hypothesis: either internet or service type have a higher rate of churn"
   ]
  },
  {
   "cell_type": "code",
   "execution_count": 18,
   "metadata": {},
   "outputs": [
    {
     "name": "stdout",
     "output_type": "stream",
     "text": [
      "phone variance: 608.4176627855501 internet variance: 582.2152454666078\n",
      "\n",
      "statistic = -0.369\n",
      "p_value = 1.425\n",
      "\n",
      "P is greater than alpha. We fail to reject the null hypothesis.\n"
     ]
    }
   ],
   "source": [
    "# For comparing churn in service type (internet or phone), will use a two-sample 2-tail t-test\n",
    "# independent groups required, so not testing groups of both phone and internet\n",
    "# alpha set to .01 earlier\n",
    "\n",
    "# first sample will be customers with internet only service\n",
    "x1 = train[train.service_type == 1].tenure_months\n",
    "\n",
    "# second sample will be cusomters with phone service only\n",
    "x2 = train[train.service_type == 2].tenure_months\n",
    "\n",
    "# check variances are similar\n",
    "print('phone variance:',x1.var(),'internet variance:',x2.var())\n",
    "\n",
    "\n",
    "stat, p = ttest_ind(x1, x2)\n",
    "\n",
    "# two-tailed test, looking for dependency in either direction (service)\n",
    "p *= 2\n",
    "\n",
    "print(f'\\nstatistic = {stat:.3f}')\n",
    "print(f'p_value = {p:.3f}')\n",
    "\n",
    "if p < a:\n",
    "    print('\\nP is less than alpha. We reject the null hypothesis.')\n",
    "    \n",
    "if p > a:\n",
    "    print('\\nP is greater than alpha. We fail to reject the null hypothesis.')"
   ]
  },
  {
   "cell_type": "markdown",
   "metadata": {},
   "source": [
    "### Takeaways\n",
    "- p value means we reject do not reject the null hypothesis and that service type does drive churn\n",
    "- however, we only tested internet vs. phone\n",
    "- this does not include phone and internet combined\n",
    "- the plot below shows how most cusomters have phone+internet combined\n",
    "- the churn seems higher, but could be due to larger size"
   ]
  },
  {
   "cell_type": "code",
   "execution_count": 19,
   "metadata": {},
   "outputs": [
    {
     "data": {
      "text/plain": [
       "Text(0.5, 1, 'Churn Count for Phone vs Internet Service')"
      ]
     },
     "execution_count": 19,
     "metadata": {},
     "output_type": "execute_result"
    },
    {
     "data": {
      "image/png": "[encoded data removed]",
      "text/plain": [
       "<Figure size 402.375x360 with 1 Axes>"
      ]
     },
     "metadata": {
      "needs_background": "light"
     },
     "output_type": "display_data"
    }
   ],
   "source": [
    "sns.displot(train, x='service_type',hue='churn',multiple='stack')\n",
    "plt.title('Churn Count for Phone vs Internet Service')"
   ]
  },
  {
   "cell_type": "markdown",
   "metadata": {},
   "source": [
    "## Overall Explore Takeaways\n",
    "- From hypothesis testing and plots\n",
    "    - Automatic payments indicates a lower rate for churn\n",
    "    - Phone or internet service alone do not affect churn rates\n",
    "    - Tech support has a slight negative correlation between churn\n",
    "- From heatmap\n",
    "    - all three services combined afect churn (phone + internet)\n",
    "    - other features correalting with churn include contract type and monthly charges"
   ]
  },
  {
   "cell_type": "markdown",
   "metadata": {},
   "source": [
    "# Modeling\n",
    "- Split train, validate, split into X variables and y (target) variable\n",
    "- create the baseline model for comparison with models created\n",
    "- create multiple models with varying features\n",
    "- determine the top 3 models to evaluate on validate\n",
    "- determine best model to evaluate on test"
   ]
  },
  {
   "cell_type": "code",
   "execution_count": 20,
   "metadata": {},
   "outputs": [],
   "source": [
    "# our predictor/independent features split into train, test, validate\n",
    "X_train = train.drop(columns = ['churn'],axis=1)\n",
    "X_validate = validate.drop(columns = ['churn'],axis=1)\n",
    "X_test = test.drop(columns = ['churn'],axis=1)\n",
    "\n",
    "# our target variables split into train, test, validate\n",
    "y_train = train.churn\n",
    "y_validate = validate.churn\n",
    "y_test = test.churn"
   ]
  },
  {
   "cell_type": "code",
   "execution_count": 21,
   "metadata": {},
   "outputs": [
    {
     "data": {
      "text/plain": [
       "0    3720\n",
       "1    1350\n",
       "Name: churn, dtype: int64"
      ]
     },
     "execution_count": 21,
     "metadata": {},
     "output_type": "execute_result"
    }
   ],
   "source": [
    "# most of our customers are still with the company (0 = has not churned)\n",
    "y_train.value_counts()"
   ]
  },
  {
   "cell_type": "code",
   "execution_count": 22,
   "metadata": {},
   "outputs": [
    {
     "data": {
      "text/html": [
       "<div>\n",
       "<style scoped>\n",
       "    .dataframe tbody tr th:only-of-type {\n",
       "        vertical-align: middle;\n",
       "    }\n",
       "\n",
       "    .dataframe tbody tr th {\n",
       "        vertical-align: top;\n",
       "    }\n",
       "\n",
       "    .dataframe thead th {\n",
       "        text-align: right;\n",
       "    }\n",
       "</style>\n",
       "<table border=\"1\" class=\"dataframe\">\n",
       "  <thead>\n",
       "    <tr style=\"text-align: right;\">\n",
       "      <th></th>\n",
       "      <th>actual</th>\n",
       "      <th>baseline</th>\n",
       "    </tr>\n",
       "  </thead>\n",
       "  <tbody>\n",
       "    <tr>\n",
       "      <th>855</th>\n",
       "      <td>1</td>\n",
       "      <td>0</td>\n",
       "    </tr>\n",
       "    <tr>\n",
       "      <th>2823</th>\n",
       "      <td>1</td>\n",
       "      <td>0</td>\n",
       "    </tr>\n",
       "    <tr>\n",
       "      <th>5656</th>\n",
       "      <td>0</td>\n",
       "      <td>0</td>\n",
       "    </tr>\n",
       "    <tr>\n",
       "      <th>1016</th>\n",
       "      <td>0</td>\n",
       "      <td>0</td>\n",
       "    </tr>\n",
       "    <tr>\n",
       "      <th>1175</th>\n",
       "      <td>0</td>\n",
       "      <td>0</td>\n",
       "    </tr>\n",
       "  </tbody>\n",
       "</table>\n",
       "</div>"
      ],
      "text/plain": [
       "      actual  baseline\n",
       "855        1         0\n",
       "2823       1         0\n",
       "5656       0         0\n",
       "1016       0         0\n",
       "1175       0         0"
      ]
     },
     "execution_count": 22,
     "metadata": {},
     "output_type": "execute_result"
    }
   ],
   "source": [
    "# Most customers do not churn, this will be our baseline prediction\n",
    "# Creating data frame from actual churn\n",
    "baseline = pd.DataFrame(y_train)\n",
    "\n",
    "# Adding baseline as prediction, not churned for every observation\n",
    "baseline['baseline'] = 0\n",
    "\n",
    "# Renaming the columns\n",
    "baseline.columns = ['actual','baseline']\n",
    "\n",
    "# checking the df\n",
    "baseline.head()"
   ]
  },
  {
   "cell_type": "code",
   "execution_count": 23,
   "metadata": {},
   "outputs": [
    {
     "data": {
      "text/html": [
       "<div>\n",
       "<style scoped>\n",
       "    .dataframe tbody tr th:only-of-type {\n",
       "        vertical-align: middle;\n",
       "    }\n",
       "\n",
       "    .dataframe tbody tr th {\n",
       "        vertical-align: top;\n",
       "    }\n",
       "\n",
       "    .dataframe thead th {\n",
       "        text-align: right;\n",
       "    }\n",
       "</style>\n",
       "<table border=\"1\" class=\"dataframe\">\n",
       "  <thead>\n",
       "    <tr style=\"text-align: right;\">\n",
       "      <th>actual</th>\n",
       "      <th>0</th>\n",
       "      <th>1</th>\n",
       "    </tr>\n",
       "    <tr>\n",
       "      <th>baseline</th>\n",
       "      <th></th>\n",
       "      <th></th>\n",
       "    </tr>\n",
       "  </thead>\n",
       "  <tbody>\n",
       "    <tr>\n",
       "      <th>0</th>\n",
       "      <td>3720</td>\n",
       "      <td>1350</td>\n",
       "    </tr>\n",
       "  </tbody>\n",
       "</table>\n",
       "</div>"
      ],
      "text/plain": [
       "actual       0     1\n",
       "baseline            \n",
       "0         3720  1350"
      ]
     },
     "execution_count": 23,
     "metadata": {},
     "output_type": "execute_result"
    }
   ],
   "source": [
    "# To calculate accuracy, create a cross tab of our baseline versus actual\n",
    "pd.crosstab(baseline['baseline'], baseline['actual'])"
   ]
  },
  {
   "cell_type": "code",
   "execution_count": 24,
   "metadata": {},
   "outputs": [
    {
     "name": "stdout",
     "output_type": "stream",
     "text": [
      "The baseline model is 73.37 percent.\n"
     ]
    }
   ],
   "source": [
    "# let's calculate the accuracy\n",
    "# positive will be not churned\n",
    "# (TP + TN) / (TP + TN + FP + FN)\n",
    "\n",
    "#predicting not churned and the customer has not churned\n",
    "TP = 3720\n",
    "\n",
    "#predicting not churned and the customer has churned\n",
    "FP = 1350\n",
    "\n",
    "#predicting the customer has churned and they have churned\n",
    "TN = 0\n",
    "\n",
    "#predicting the customer has churned and they have not churned\n",
    "FN = 0\n",
    "\n",
    "base_acc = (TP + TN) / (TP + TN + FP + FN)\n",
    "\n",
    "print(\"The baseline model is\",round(base_acc * 100, 2),\"percent.\")"
   ]
  },
  {
   "cell_type": "markdown",
   "metadata": {},
   "source": [
    "## Models\n",
    "- Using tech_support, automatic payments, service type, contract type, monthly_charges\n",
    "    - when contract type not included, the model performs the same as the baseline, only predicting not churned\n",
    "    - when monthly_charges not included, the models all perform the same at %76 percent\n",
    "    - tweaking the parameters only decreased performance to baseline\n",
    "- Will use each model type on train, choose three from these to validate"
   ]
  },
  {
   "cell_type": "markdown",
   "metadata": {},
   "source": [
    "### Logistic Regression - Model 1"
   ]
  },
  {
   "cell_type": "code",
   "execution_count": 25,
   "metadata": {},
   "outputs": [],
   "source": [
    "X_train1 = X_train[['tech_support','auto_payment','service_type','contract_type','monthly_charges']]\n",
    "y_train1 = train.churn"
   ]
  },
  {
   "cell_type": "code",
   "execution_count": 26,
   "metadata": {},
   "outputs": [
    {
     "name": "stdout",
     "output_type": "stream",
     "text": [
      "Coefficient: \n",
      " [[-0.65052397 -0.59476832  0.15064439 -1.47482779  0.01817858]]\n",
      "\n",
      "Intercept: \n",
      " [-1.66185493]\n",
      "\n",
      "Accuracy of Logistic Regression classifier on training set: 0.7719921104536489\n",
      "\n",
      "The confusion matrix:\n",
      " [[3292  428]\n",
      " [ 728  622]]\n",
      "\n",
      "Classification report:\n",
      "               precision    recall  f1-score   support\n",
      "\n",
      "           0       0.82      0.88      0.85      3720\n",
      "           1       0.59      0.46      0.52      1350\n",
      "\n",
      "    accuracy                           0.77      5070\n",
      "   macro avg       0.71      0.67      0.68      5070\n",
      "weighted avg       0.76      0.77      0.76      5070\n",
      "\n"
     ]
    }
   ],
   "source": [
    "# create the model object\n",
    "logit1 = LogisticRegression(C=100)\n",
    "\n",
    "# fit to train (only fit it train!)\n",
    "logit1.fit(X_train1, y_train1)\n",
    "\n",
    "# displays the correlation of each feature\n",
    "print('Coefficient: \\n', logit1.coef_)\n",
    "print('\\nIntercept: \\n', logit1.intercept_)\n",
    "\n",
    "# predicts churn or not for each customer (1 value)\n",
    "y_pred1 = logit1.predict(X_train1)\n",
    "\n",
    "# probability of churn and probability of not churn for each customer (2 values)\n",
    "y_pred_proba1 = logit1.predict_proba(X_train1)\n",
    "\n",
    "# accuracy of the model\n",
    "print('\\nAccuracy of Logistic Regression classifier on training set:',logit1.score(X_train1, y_train1))\n",
    "\n",
    "print('\\nThe confusion matrix:\\n',confusion_matrix(y_train1, y_pred1))\n",
    "print('\\nClassification report:\\n',classification_report(y_train1, y_pred1))"
   ]
  },
  {
   "cell_type": "markdown",
   "metadata": {},
   "source": [
    "### Takeaways\n",
    "- Accuracy decreases with C = .01\n",
    "- better than baseline"
   ]
  },
  {
   "cell_type": "markdown",
   "metadata": {},
   "source": [
    "### Decision Tree - Model 2"
   ]
  },
  {
   "cell_type": "code",
   "execution_count": 27,
   "metadata": {},
   "outputs": [],
   "source": [
    "X_train2 = X_train[['tech_support','auto_payment','service_type','contract_type','monthly_charges']]\n",
    "y_train2 = train.churn"
   ]
  },
  {
   "cell_type": "code",
   "execution_count": 28,
   "metadata": {},
   "outputs": [
    {
     "name": "stdout",
     "output_type": "stream",
     "text": [
      "Accuracy of Decision Tree classifier on training set: 0.7686390532544378\n",
      "\n",
      "The confusion matrix:\n",
      " [[3142  578]\n",
      " [ 595  755]]\n",
      "\n",
      "Classification report:\n",
      "               precision    recall  f1-score   support\n",
      "\n",
      "           0       0.84      0.84      0.84      3720\n",
      "           1       0.57      0.56      0.56      1350\n",
      "\n",
      "    accuracy                           0.77      5070\n",
      "   macro avg       0.70      0.70      0.70      5070\n",
      "weighted avg       0.77      0.77      0.77      5070\n",
      "\n"
     ]
    }
   ],
   "source": [
    "clf2 = DecisionTreeClassifier(max_depth = 3)\n",
    "\n",
    "clf2.fit(X_train2, y_train2)\n",
    "\n",
    "y_pred2 = clf2.predict(X_train2)\n",
    "y_pred_proba2 = clf2.predict_proba(X_train2)\n",
    "\n",
    "#evaluate metrics\n",
    "print('Accuracy of Decision Tree classifier on training set:', clf2.score(X_train2, y_train2))\n",
    "print('\\nThe confusion matrix:\\n',confusion_matrix(y_train2, y_pred2))\n",
    "print('\\nClassification report:\\n',classification_report(y_train2, y_pred2))"
   ]
  },
  {
   "cell_type": "markdown",
   "metadata": {},
   "source": [
    "### Takeaways\n",
    "- Max_depth = 3 sets accuracy equal to baseline\n",
    "- Max_depth 4 and 5 are equal, will use 4"
   ]
  },
  {
   "cell_type": "markdown",
   "metadata": {},
   "source": [
    "### Random Forest - Model 3"
   ]
  },
  {
   "cell_type": "code",
   "execution_count": 29,
   "metadata": {},
   "outputs": [],
   "source": [
    "X_train3 = X_train[['tech_support','auto_payment','service_type','contract_type','monthly_charges']]\n",
    "y_train3 = train.churn"
   ]
  },
  {
   "cell_type": "code",
   "execution_count": 30,
   "metadata": {},
   "outputs": [
    {
     "name": "stdout",
     "output_type": "stream",
     "text": [
      "Accuracy of Random Forest classifier on training set: 0.7765285996055227\n",
      "\n",
      "The confusion matrix:\n",
      " [[3345  375]\n",
      " [ 758  592]]\n",
      "\n",
      "Classification report:\n",
      "               precision    recall  f1-score   support\n",
      "\n",
      "           0       0.82      0.90      0.86      3720\n",
      "           1       0.61      0.44      0.51      1350\n",
      "\n",
      "    accuracy                           0.78      5070\n",
      "   macro avg       0.71      0.67      0.68      5070\n",
      "weighted avg       0.76      0.78      0.76      5070\n",
      "\n"
     ]
    }
   ],
   "source": [
    "rf3 = RandomForestClassifier(max_depth = 5)\n",
    "\n",
    "rf3.fit(X_train3, y_train3)\n",
    "\n",
    "y_pred3 = rf3.predict(X_train3)\n",
    "\n",
    "y_pred_proba3 = rf3.predict_proba(X_train3)\n",
    "\n",
    "#print(rf3.feature_importances_)\n",
    "\n",
    "print('Accuracy of Random Forest classifier on training set:',rf3.score(X_train3, y_train3))\n",
    "print('\\nThe confusion matrix:\\n',confusion_matrix(y_train3, y_pred3))\n",
    "print('\\nClassification report:\\n',classification_report(y_train3, y_pred3))"
   ]
  },
  {
   "cell_type": "markdown",
   "metadata": {},
   "source": [
    "### KNN - Model 4"
   ]
  },
  {
   "cell_type": "code",
   "execution_count": 31,
   "metadata": {},
   "outputs": [],
   "source": [
    "X_train4 = X_train[['tech_support','auto_payment','service_type','contract_type','monthly_charges']]\n",
    "y_train4 = train.churn"
   ]
  },
  {
   "cell_type": "code",
   "execution_count": 32,
   "metadata": {},
   "outputs": [
    {
     "name": "stdout",
     "output_type": "stream",
     "text": [
      "Accuracy of KNN classifier on training set: 0.795069033530572\n",
      "\n",
      "The confusion matrix:\n",
      " [[3443  277]\n",
      " [ 762  588]]\n",
      "\n",
      "Classification report:\n",
      "               precision    recall  f1-score   support\n",
      "\n",
      "           0       0.82      0.93      0.87      3720\n",
      "           1       0.68      0.44      0.53      1350\n",
      "\n",
      "    accuracy                           0.80      5070\n",
      "   macro avg       0.75      0.68      0.70      5070\n",
      "weighted avg       0.78      0.80      0.78      5070\n",
      "\n"
     ]
    }
   ],
   "source": [
    "knn4 = KNeighborsClassifier(n_neighbors=10)\n",
    "\n",
    "knn4.fit(X_train4, y_train4)\n",
    "\n",
    "y_pred4 = knn4.predict(X_train4)\n",
    "\n",
    "y_pred_proba4 = knn4.predict_proba(X_train4)\n",
    "\n",
    "print('Accuracy of KNN classifier on training set:',knn4.score(X_train4, y_train4))\n",
    "print('\\nThe confusion matrix:\\n',confusion_matrix(y_train4, y_pred4))\n",
    "print('\\nClassification report:\\n',classification_report(y_train4, y_pred4))"
   ]
  },
  {
   "cell_type": "markdown",
   "metadata": {},
   "source": [
    "### Validate\n",
    "- Model 1, Logistic Regression\n",
    "- Model 3, Random Forest\n",
    "- Model 4, KNN\n",
    "    - Note: keeping model labels from train, why skip number 2"
   ]
  },
  {
   "cell_type": "markdown",
   "metadata": {},
   "source": [
    "### Model 1 Validate, Logistic Regression"
   ]
  },
  {
   "cell_type": "code",
   "execution_count": 33,
   "metadata": {},
   "outputs": [],
   "source": [
    "X_validate = X_validate[['tech_support','auto_payment','service_type','contract_type','monthly_charges']]\n",
    "y_validate = validate.churn"
   ]
  },
  {
   "cell_type": "code",
   "execution_count": 34,
   "metadata": {},
   "outputs": [
    {
     "name": "stdout",
     "output_type": "stream",
     "text": [
      "\n",
      "Accuracy of Logistic Regression classifier on validate set: 0.7943262411347518\n",
      "[[468  50]\n",
      " [ 95  92]]\n",
      "              precision    recall  f1-score   support\n",
      "\n",
      "           0       0.83      0.90      0.87       518\n",
      "           1       0.65      0.49      0.56       187\n",
      "\n",
      "    accuracy                           0.79       705\n",
      "   macro avg       0.74      0.70      0.71       705\n",
      "weighted avg       0.78      0.79      0.78       705\n",
      "\n"
     ]
    }
   ],
   "source": [
    "print('\\nAccuracy of Logistic Regression classifier on validate set:',logit1.score(X_validate, y_validate))\n",
    "\n",
    "y_pred1 = logit1.predict(X_validate)\n",
    "\n",
    "print(confusion_matrix(y_validate, y_pred1))\n",
    "\n",
    "print(classification_report(y_validate, y_pred1))"
   ]
  },
  {
   "cell_type": "markdown",
   "metadata": {},
   "source": [
    "### Model 3 Validate, Random Forest"
   ]
  },
  {
   "cell_type": "code",
   "execution_count": 35,
   "metadata": {},
   "outputs": [
    {
     "name": "stdout",
     "output_type": "stream",
     "text": [
      "\n",
      "Accuracy of Random Forest classifier on validate set: 0.7971631205673759\n",
      "[[474  44]\n",
      " [ 99  88]]\n",
      "              precision    recall  f1-score   support\n",
      "\n",
      "           0       0.83      0.92      0.87       518\n",
      "           1       0.67      0.47      0.55       187\n",
      "\n",
      "    accuracy                           0.80       705\n",
      "   macro avg       0.75      0.69      0.71       705\n",
      "weighted avg       0.78      0.80      0.78       705\n",
      "\n"
     ]
    }
   ],
   "source": [
    "print('\\nAccuracy of Random Forest classifier on validate set:',rf3.score(X_validate, y_validate))\n",
    "\n",
    "y_pred3 = rf3.predict(X_validate)\n",
    "\n",
    "print(confusion_matrix(y_validate, y_pred3))\n",
    "print(classification_report(y_validate, y_pred3))"
   ]
  },
  {
   "cell_type": "markdown",
   "metadata": {},
   "source": [
    "### Model 4 Validate , KNN"
   ]
  },
  {
   "cell_type": "code",
   "execution_count": 36,
   "metadata": {},
   "outputs": [
    {
     "name": "stdout",
     "output_type": "stream",
     "text": [
      "\n",
      "Accuracy of KNN classifier on validate set: 0.7829787234042553\n",
      "[[476  42]\n",
      " [111  76]]\n",
      "              precision    recall  f1-score   support\n",
      "\n",
      "           0       0.81      0.92      0.86       518\n",
      "           1       0.64      0.41      0.50       187\n",
      "\n",
      "    accuracy                           0.78       705\n",
      "   macro avg       0.73      0.66      0.68       705\n",
      "weighted avg       0.77      0.78      0.77       705\n",
      "\n"
     ]
    }
   ],
   "source": [
    "print('\\nAccuracy of KNN classifier on validate set:',knn4.score(X_validate, y_validate))\n",
    "\n",
    "y_pred4 = knn4.predict(X_validate)\n",
    "\n",
    "print(confusion_matrix(y_validate, y_pred4))\n",
    "print(classification_report(y_validate, y_pred4))"
   ]
  },
  {
   "cell_type": "code",
   "execution_count": 38,
   "metadata": {},
   "outputs": [
    {
     "name": "stdout",
     "output_type": "stream",
     "text": [
      "[[468  50]\n",
      " [ 95  92]]\n",
      "tn: 476 fp: 42 fn: 111 tp: 76\n",
      "\n",
      "recall is 0.40641711229946526\n"
     ]
    }
   ],
   "source": [
    "# Calculating Recall basing 1 as positive\n",
    "print(confusion_matrix(y_validate, y_pred1))\n",
    "TN, FP, FN, TP = confusion_matrix(y_validate, y_pred4).ravel()\n",
    "print('tn:',TN,'fp:',FP,'fn:',FN,'tp:', TP)\n",
    "\n",
    "recall1 = TP / (TP + FN)\n",
    "print('\\nrecall is',recall1)"
   ]
  },
  {
   "cell_type": "code",
   "execution_count": 40,
   "metadata": {},
   "outputs": [
    {
     "name": "stdout",
     "output_type": "stream",
     "text": [
      "[[474  44]\n",
      " [ 99  88]]\n",
      "tn: 476 fp: 42 fn: 111 tp: 76\n",
      "\n",
      "recall is 0.40641711229946526\n"
     ]
    }
   ],
   "source": [
    "# Calculating Recall basing 1 as positive\n",
    "print(confusion_matrix(y_validate, y_pred3))\n",
    "TN, FP, FN, TP = confusion_matrix(y_validate, y_pred4).ravel()\n",
    "print('tn:',TN,'fp:',FP,'fn:',FN,'tp:', TP)\n",
    "\n",
    "recall2 = TP / (TP + FN)\n",
    "print('\\nrecall is',recall2)"
   ]
  },
  {
   "cell_type": "markdown",
   "metadata": {},
   "source": [
    "### Takeaways\n",
    "We consider positive as churn = 1\n",
    "We consider negative as churn = 0\n",
    "It costs more to lose customers, so we want the model to predict customers leaving best (positive)\n",
    "This means we want the best recall/sensitivity\n",
    "However, they have the same recall\n",
    "- Model 1, Logistic Regression\n",
    "    - accuracy is a fraction less than RF\n",
    "    - false positives and false negatives more evenly split than RF\n",
    "- Model 3, Random Forest\n",
    "    - highest accuracy\n",
    "    - more likely to predict not churned\n",
    "    - false positives more than false negatives\n",
    "        - predicts a customer more likely to stay when really they churn\n",
    "- Model 4, KNN\n",
    "    - lowest accuracy\n",
    "### Chosing Model 3, Random Forest for best accuracy"
   ]
  },
  {
   "cell_type": "markdown",
   "metadata": {},
   "source": [
    "### Test\n",
    "- Testing on best model from validate"
   ]
  },
  {
   "cell_type": "code",
   "execution_count": 41,
   "metadata": {},
   "outputs": [],
   "source": [
    "X_test = X_test[['tech_support','auto_payment','service_type','contract_type','monthly_charges']]\n",
    "y_test = test.churn"
   ]
  },
  {
   "cell_type": "code",
   "execution_count": 42,
   "metadata": {},
   "outputs": [
    {
     "name": "stdout",
     "output_type": "stream",
     "text": [
      "\n",
      "Accuracy of Random Forest classifier on test set: 0.7665615141955836\n",
      "[[836 100]\n",
      " [196 136]]\n",
      "              precision    recall  f1-score   support\n",
      "\n",
      "           0       0.81      0.89      0.85       936\n",
      "           1       0.58      0.41      0.48       332\n",
      "\n",
      "    accuracy                           0.77      1268\n",
      "   macro avg       0.69      0.65      0.66      1268\n",
      "weighted avg       0.75      0.77      0.75      1268\n",
      "\n"
     ]
    }
   ],
   "source": [
    "print('\\nAccuracy of Random Forest classifier on test set:',rf3.score(X_test, y_test))\n",
    "\n",
    "y_pred3 = rf3.predict(X_test)\n",
    "\n",
    "print(confusion_matrix(y_test, y_pred3))\n",
    "print(classification_report(y_test, y_pred3))"
   ]
  },
  {
   "cell_type": "markdown",
   "metadata": {},
   "source": [
    "# Creating a CSV Deliverable\n",
    "- apply predictive model to the whole df\n",
    "- convert to csv file"
   ]
  },
  {
   "cell_type": "code",
   "execution_count": 43,
   "metadata": {},
   "outputs": [
    {
     "data": {
      "text/html": [
       "<div>\n",
       "<style scoped>\n",
       "    .dataframe tbody tr th:only-of-type {\n",
       "        vertical-align: middle;\n",
       "    }\n",
       "\n",
       "    .dataframe tbody tr th {\n",
       "        vertical-align: top;\n",
       "    }\n",
       "\n",
       "    .dataframe thead th {\n",
       "        text-align: right;\n",
       "    }\n",
       "</style>\n",
       "<table border=\"1\" class=\"dataframe\">\n",
       "  <thead>\n",
       "    <tr style=\"text-align: right;\">\n",
       "      <th></th>\n",
       "      <th>customer_id</th>\n",
       "      <th>senior_citizen</th>\n",
       "      <th>tenure_months</th>\n",
       "      <th>phone_service</th>\n",
       "      <th>online_security</th>\n",
       "      <th>online_backup</th>\n",
       "      <th>device_protection</th>\n",
       "      <th>tech_support</th>\n",
       "      <th>streaming_tv</th>\n",
       "      <th>streaming_movies</th>\n",
       "      <th>...</th>\n",
       "      <th>total_charges</th>\n",
       "      <th>churn</th>\n",
       "      <th>contract_type</th>\n",
       "      <th>auto_payment</th>\n",
       "      <th>internet_service_type</th>\n",
       "      <th>Male</th>\n",
       "      <th>part_depd</th>\n",
       "      <th>service_type</th>\n",
       "      <th>tenure_years</th>\n",
       "      <th>prediction</th>\n",
       "    </tr>\n",
       "  </thead>\n",
       "  <tbody>\n",
       "    <tr>\n",
       "      <th>0</th>\n",
       "      <td>0003-MKNFE</td>\n",
       "      <td>0</td>\n",
       "      <td>9</td>\n",
       "      <td>2</td>\n",
       "      <td>0</td>\n",
       "      <td>0</td>\n",
       "      <td>0</td>\n",
       "      <td>0</td>\n",
       "      <td>0</td>\n",
       "      <td>1</td>\n",
       "      <td>...</td>\n",
       "      <td>542.4</td>\n",
       "      <td>0</td>\n",
       "      <td>0</td>\n",
       "      <td>0</td>\n",
       "      <td>1</td>\n",
       "      <td>1</td>\n",
       "      <td>0</td>\n",
       "      <td>3</td>\n",
       "      <td>0.75</td>\n",
       "      <td>0</td>\n",
       "    </tr>\n",
       "  </tbody>\n",
       "</table>\n",
       "<p>1 rows × 24 columns</p>\n",
       "</div>"
      ],
      "text/plain": [
       "  customer_id  senior_citizen  tenure_months  phone_service  online_security  \\\n",
       "0  0003-MKNFE               0              9              2                0   \n",
       "\n",
       "   online_backup  device_protection  tech_support  streaming_tv  \\\n",
       "0              0                  0             0             0   \n",
       "\n",
       "   streaming_movies  ...  total_charges  churn  contract_type  auto_payment  \\\n",
       "0                 1  ...          542.4      0              0             0   \n",
       "\n",
       "   internet_service_type  Male  part_depd  service_type  tenure_years  \\\n",
       "0                      1     1          0             3          0.75   \n",
       "\n",
       "   prediction  \n",
       "0           0  \n",
       "\n",
       "[1 rows x 24 columns]"
      ]
     },
     "execution_count": 43,
     "metadata": {},
     "output_type": "execute_result"
    }
   ],
   "source": [
    "X = df[['tech_support','auto_payment','service_type','contract_type','monthly_charges']]\n",
    "\n",
    "# Caveat: X needs to have the same columns as the X_train that was used to fit the model\n",
    "\n",
    "# model.predict(X) gives us predictions for the entire dataframe\n",
    "df['prediction'] = rf3.predict(X)\n",
    "df.head(1)"
   ]
  },
  {
   "cell_type": "code",
   "execution_count": 44,
   "metadata": {},
   "outputs": [
    {
     "data": {
      "text/html": [
       "<div>\n",
       "<style scoped>\n",
       "    .dataframe tbody tr th:only-of-type {\n",
       "        vertical-align: middle;\n",
       "    }\n",
       "\n",
       "    .dataframe tbody tr th {\n",
       "        vertical-align: top;\n",
       "    }\n",
       "\n",
       "    .dataframe thead th {\n",
       "        text-align: right;\n",
       "    }\n",
       "</style>\n",
       "<table border=\"1\" class=\"dataframe\">\n",
       "  <thead>\n",
       "    <tr style=\"text-align: right;\">\n",
       "      <th></th>\n",
       "      <th>1</th>\n",
       "    </tr>\n",
       "  </thead>\n",
       "  <tbody>\n",
       "    <tr>\n",
       "      <th>0</th>\n",
       "      <td>0.342</td>\n",
       "    </tr>\n",
       "    <tr>\n",
       "      <th>1</th>\n",
       "      <td>0.211</td>\n",
       "    </tr>\n",
       "    <tr>\n",
       "      <th>2</th>\n",
       "      <td>0.403</td>\n",
       "    </tr>\n",
       "    <tr>\n",
       "      <th>3</th>\n",
       "      <td>0.442</td>\n",
       "    </tr>\n",
       "    <tr>\n",
       "      <th>4</th>\n",
       "      <td>0.247</td>\n",
       "    </tr>\n",
       "    <tr>\n",
       "      <th>...</th>\n",
       "      <td>...</td>\n",
       "    </tr>\n",
       "    <tr>\n",
       "      <th>7038</th>\n",
       "      <td>0.011</td>\n",
       "    </tr>\n",
       "    <tr>\n",
       "      <th>7039</th>\n",
       "      <td>0.019</td>\n",
       "    </tr>\n",
       "    <tr>\n",
       "      <th>7040</th>\n",
       "      <td>0.010</td>\n",
       "    </tr>\n",
       "    <tr>\n",
       "      <th>7041</th>\n",
       "      <td>0.013</td>\n",
       "    </tr>\n",
       "    <tr>\n",
       "      <th>7042</th>\n",
       "      <td>0.023</td>\n",
       "    </tr>\n",
       "  </tbody>\n",
       "</table>\n",
       "<p>7043 rows × 1 columns</p>\n",
       "</div>"
      ],
      "text/plain": [
       "          1\n",
       "0     0.342\n",
       "1     0.211\n",
       "2     0.403\n",
       "3     0.442\n",
       "4     0.247\n",
       "...     ...\n",
       "7038  0.011\n",
       "7039  0.019\n",
       "7040  0.010\n",
       "7041  0.013\n",
       "7042  0.023\n",
       "\n",
       "[7043 rows x 1 columns]"
      ]
     },
     "execution_count": 44,
     "metadata": {},
     "output_type": "execute_result"
    }
   ],
   "source": [
    "df_prob = pd.DataFrame(rf3.predict_proba(X))\n",
    "df_prob = df_prob.drop(0,axis=1)\n",
    "df_prob.round(3)"
   ]
  },
  {
   "cell_type": "code",
   "execution_count": 45,
   "metadata": {},
   "outputs": [],
   "source": [
    "df = pd.concat([df,df_prob],axis=1)\n",
    "df = df.rename(columns={1:'prob_of_churn'})"
   ]
  },
  {
   "cell_type": "code",
   "execution_count": null,
   "metadata": {},
   "outputs": [],
   "source": [
    "# df[['customer_id', 'prob_of_churn','prediction']].to_csv('predictions.csv')"
   ]
  },
  {
   "cell_type": "markdown",
   "metadata": {},
   "source": [
    "# Conclusions\n",
    "- Additional features such as tech and support have a slight correlation to reduce churn\n",
    "- The Random Forest Classifier worked as well as the baseline when using support,, but improved when adding features for contract type and monthly charges\n",
    "- Highest correlation is with contract type\n",
    "- Suggest:\n",
    "    - Adding options for support, device protection, etc. for phone service \n",
    "    - Can use these as incentives for customers to sign up for yearly contracts"
   ]
  }
 ],
 "metadata": {
  "kernelspec": {
   "display_name": "Python 3",
   "language": "python",
   "name": "python3"
  },
  "language_info": {
   "codemirror_mode": {
    "name": "ipython",
    "version": 3
   },
   "file_extension": ".py",
   "mimetype": "text/x-python",
   "name": "python",
   "nbconvert_exporter": "python",
   "pygments_lexer": "ipython3",
   "version": "3.7.6"
  }
 },
 "nbformat": 4,
 "nbformat_minor": 4
}
