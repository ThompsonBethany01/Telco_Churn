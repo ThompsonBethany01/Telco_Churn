{
 "cells": [
  {
   "cell_type": "code",
   "execution_count": 72,
   "metadata": {},
   "outputs": [
    {
     "name": "stdout",
     "output_type": "stream",
     "text": [
      "Imports complete.\n"
     ]
    }
   ],
   "source": [
    "# python files that contain the functions to aquire and prep the data\n",
    "import acquire\n",
    "import prepare\n",
    "\n",
    "# import python libraries\n",
    "import pandas as pd\n",
    "import numpy as np\n",
    "import matplotlib.pyplot as plt\n",
    "import seaborn as sns\n",
    "\n",
    "# import hypothesis testing\n",
    "from scipy.stats import chi2_contingency\n",
    "from scipy.stats import ttest_1samp\n",
    "\n",
    "print('Imports complete.')"
   ]
  },
  {
   "cell_type": "code",
   "execution_count": 2,
   "metadata": {},
   "outputs": [
    {
     "name": "stdout",
     "output_type": "stream",
     "text": [
      "No duplicates found.\n",
      "Dummy variables for gender created as \"male\".\n",
      "Yes/No column values changed to boolean, 0 as no and 1 as yes\n",
      "Combined variable for phone_service + multiple lines created.\n",
      "Combined variable for partner + dependents created.\n",
      "Changed streaming tv and movies to 0 for no, 1 for streams.\n",
      "Changed backup and security to 0 for no, 1 for having the feature.\n",
      "Added feature for tenure in years.\n",
      "Converted total_charges to float for easier manipulation.\n",
      "Data prep complete.\n",
      "\n",
      "\n",
      "train shape:  (5070, 23) , validate shape:  (1268, 23) , test shape:  (705, 23)\n",
      "\n",
      "train percent:  72.0 , validate percent:  18.0 , test percent:  10.0\n"
     ]
    }
   ],
   "source": [
    "# aquire the data\n",
    "df = acquire.get_churn_data()\n",
    "\n",
    "#prep the data\n",
    "df = prepare.prep_telco_df(df)\n",
    "\n",
    "#split the data, exploring on train only\n",
    "train, test, validate = prepare.train_test_validate(df)"
   ]
  },
  {
   "cell_type": "code",
   "execution_count": 3,
   "metadata": {},
   "outputs": [
    {
     "data": {
      "text/html": [
       "<div>\n",
       "<style scoped>\n",
       "    .dataframe tbody tr th:only-of-type {\n",
       "        vertical-align: middle;\n",
       "    }\n",
       "\n",
       "    .dataframe tbody tr th {\n",
       "        vertical-align: top;\n",
       "    }\n",
       "\n",
       "    .dataframe thead th {\n",
       "        text-align: right;\n",
       "    }\n",
       "</style>\n",
       "<table border=\"1\" class=\"dataframe\">\n",
       "  <thead>\n",
       "    <tr style=\"text-align: right;\">\n",
       "      <th></th>\n",
       "      <th>855</th>\n",
       "      <th>2823</th>\n",
       "      <th>5656</th>\n",
       "      <th>1016</th>\n",
       "      <th>1175</th>\n",
       "    </tr>\n",
       "  </thead>\n",
       "  <tbody>\n",
       "    <tr>\n",
       "      <th>customer_id</th>\n",
       "      <td>6923-EFPNL</td>\n",
       "      <td>2004-OCQXK</td>\n",
       "      <td>2542-HYGIQ</td>\n",
       "      <td>8205-MQUGY</td>\n",
       "      <td>9555-SAHUZ</td>\n",
       "    </tr>\n",
       "    <tr>\n",
       "      <th>senior_citizen</th>\n",
       "      <td>0</td>\n",
       "      <td>0</td>\n",
       "      <td>0</td>\n",
       "      <td>0</td>\n",
       "      <td>0</td>\n",
       "    </tr>\n",
       "    <tr>\n",
       "      <th>tenure_months</th>\n",
       "      <td>4</td>\n",
       "      <td>1</td>\n",
       "      <td>1</td>\n",
       "      <td>12</td>\n",
       "      <td>38</td>\n",
       "    </tr>\n",
       "    <tr>\n",
       "      <th>phone_service</th>\n",
       "      <td>2</td>\n",
       "      <td>1</td>\n",
       "      <td>1</td>\n",
       "      <td>1</td>\n",
       "      <td>1</td>\n",
       "    </tr>\n",
       "    <tr>\n",
       "      <th>internet_service_type_id</th>\n",
       "      <td>1</td>\n",
       "      <td>2</td>\n",
       "      <td>3</td>\n",
       "      <td>1</td>\n",
       "      <td>1</td>\n",
       "    </tr>\n",
       "    <tr>\n",
       "      <th>online_security</th>\n",
       "      <td>0</td>\n",
       "      <td>0</td>\n",
       "      <td>0</td>\n",
       "      <td>1</td>\n",
       "      <td>1</td>\n",
       "    </tr>\n",
       "    <tr>\n",
       "      <th>online_backup</th>\n",
       "      <td>0</td>\n",
       "      <td>0</td>\n",
       "      <td>0</td>\n",
       "      <td>0</td>\n",
       "      <td>1</td>\n",
       "    </tr>\n",
       "    <tr>\n",
       "      <th>device_protection</th>\n",
       "      <td>No</td>\n",
       "      <td>No</td>\n",
       "      <td>No internet service</td>\n",
       "      <td>No</td>\n",
       "      <td>No</td>\n",
       "    </tr>\n",
       "    <tr>\n",
       "      <th>tech_support</th>\n",
       "      <td>No</td>\n",
       "      <td>No</td>\n",
       "      <td>No internet service</td>\n",
       "      <td>No</td>\n",
       "      <td>No</td>\n",
       "    </tr>\n",
       "    <tr>\n",
       "      <th>streaming_tv</th>\n",
       "      <td>0</td>\n",
       "      <td>0</td>\n",
       "      <td>0</td>\n",
       "      <td>0</td>\n",
       "      <td>0</td>\n",
       "    </tr>\n",
       "    <tr>\n",
       "      <th>streaming_movies</th>\n",
       "      <td>0</td>\n",
       "      <td>1</td>\n",
       "      <td>0</td>\n",
       "      <td>0</td>\n",
       "      <td>0</td>\n",
       "    </tr>\n",
       "    <tr>\n",
       "      <th>contract_type_id</th>\n",
       "      <td>1</td>\n",
       "      <td>1</td>\n",
       "      <td>1</td>\n",
       "      <td>1</td>\n",
       "      <td>1</td>\n",
       "    </tr>\n",
       "    <tr>\n",
       "      <th>paperless_billing</th>\n",
       "      <td>0</td>\n",
       "      <td>1</td>\n",
       "      <td>0</td>\n",
       "      <td>1</td>\n",
       "      <td>0</td>\n",
       "    </tr>\n",
       "    <tr>\n",
       "      <th>payment_type_id</th>\n",
       "      <td>4</td>\n",
       "      <td>1</td>\n",
       "      <td>4</td>\n",
       "      <td>1</td>\n",
       "      <td>1</td>\n",
       "    </tr>\n",
       "    <tr>\n",
       "      <th>monthly_charges</th>\n",
       "      <td>51.75</td>\n",
       "      <td>81.95</td>\n",
       "      <td>19.95</td>\n",
       "      <td>49.2</td>\n",
       "      <td>54.5</td>\n",
       "    </tr>\n",
       "    <tr>\n",
       "      <th>total_charges</th>\n",
       "      <td>201.1</td>\n",
       "      <td>81.95</td>\n",
       "      <td>19.95</td>\n",
       "      <td>571.15</td>\n",
       "      <td>2076.05</td>\n",
       "    </tr>\n",
       "    <tr>\n",
       "      <th>churn</th>\n",
       "      <td>1</td>\n",
       "      <td>1</td>\n",
       "      <td>0</td>\n",
       "      <td>0</td>\n",
       "      <td>0</td>\n",
       "    </tr>\n",
       "    <tr>\n",
       "      <th>contract_type</th>\n",
       "      <td>Month-to-month</td>\n",
       "      <td>Month-to-month</td>\n",
       "      <td>Month-to-month</td>\n",
       "      <td>Month-to-month</td>\n",
       "      <td>Month-to-month</td>\n",
       "    </tr>\n",
       "    <tr>\n",
       "      <th>payment_type</th>\n",
       "      <td>Credit card (automatic)</td>\n",
       "      <td>Electronic check</td>\n",
       "      <td>Credit card (automatic)</td>\n",
       "      <td>Electronic check</td>\n",
       "      <td>Electronic check</td>\n",
       "    </tr>\n",
       "    <tr>\n",
       "      <th>internet_service_type</th>\n",
       "      <td>DSL</td>\n",
       "      <td>Fiber optic</td>\n",
       "      <td>None</td>\n",
       "      <td>DSL</td>\n",
       "      <td>DSL</td>\n",
       "    </tr>\n",
       "    <tr>\n",
       "      <th>Male</th>\n",
       "      <td>1</td>\n",
       "      <td>0</td>\n",
       "      <td>0</td>\n",
       "      <td>1</td>\n",
       "      <td>0</td>\n",
       "    </tr>\n",
       "    <tr>\n",
       "      <th>part_depd</th>\n",
       "      <td>0</td>\n",
       "      <td>0</td>\n",
       "      <td>0</td>\n",
       "      <td>2</td>\n",
       "      <td>2</td>\n",
       "    </tr>\n",
       "    <tr>\n",
       "      <th>tenure_years</th>\n",
       "      <td>0.33</td>\n",
       "      <td>0.08</td>\n",
       "      <td>0.08</td>\n",
       "      <td>1</td>\n",
       "      <td>3.17</td>\n",
       "    </tr>\n",
       "  </tbody>\n",
       "</table>\n",
       "</div>"
      ],
      "text/plain": [
       "                                             855               2823  \\\n",
       "customer_id                            6923-EFPNL        2004-OCQXK   \n",
       "senior_citizen                                  0                 0   \n",
       "tenure_months                                   4                 1   \n",
       "phone_service                                   2                 1   \n",
       "internet_service_type_id                        1                 2   \n",
       "online_security                                 0                 0   \n",
       "online_backup                                   0                 0   \n",
       "device_protection                              No                No   \n",
       "tech_support                                   No                No   \n",
       "streaming_tv                                    0                 0   \n",
       "streaming_movies                                0                 1   \n",
       "contract_type_id                                1                 1   \n",
       "paperless_billing                               0                 1   \n",
       "payment_type_id                                 4                 1   \n",
       "monthly_charges                             51.75             81.95   \n",
       "total_charges                               201.1             81.95   \n",
       "churn                                           1                 1   \n",
       "contract_type                      Month-to-month    Month-to-month   \n",
       "payment_type              Credit card (automatic)  Electronic check   \n",
       "internet_service_type                         DSL       Fiber optic   \n",
       "Male                                            1                 0   \n",
       "part_depd                                       0                 0   \n",
       "tenure_years                                 0.33              0.08   \n",
       "\n",
       "                                             5656              1016  \\\n",
       "customer_id                            2542-HYGIQ        8205-MQUGY   \n",
       "senior_citizen                                  0                 0   \n",
       "tenure_months                                   1                12   \n",
       "phone_service                                   1                 1   \n",
       "internet_service_type_id                        3                 1   \n",
       "online_security                                 0                 1   \n",
       "online_backup                                   0                 0   \n",
       "device_protection             No internet service                No   \n",
       "tech_support                  No internet service                No   \n",
       "streaming_tv                                    0                 0   \n",
       "streaming_movies                                0                 0   \n",
       "contract_type_id                                1                 1   \n",
       "paperless_billing                               0                 1   \n",
       "payment_type_id                                 4                 1   \n",
       "monthly_charges                             19.95              49.2   \n",
       "total_charges                               19.95            571.15   \n",
       "churn                                           0                 0   \n",
       "contract_type                      Month-to-month    Month-to-month   \n",
       "payment_type              Credit card (automatic)  Electronic check   \n",
       "internet_service_type                        None               DSL   \n",
       "Male                                            0                 1   \n",
       "part_depd                                       0                 2   \n",
       "tenure_years                                 0.08                 1   \n",
       "\n",
       "                                      1175  \n",
       "customer_id                     9555-SAHUZ  \n",
       "senior_citizen                           0  \n",
       "tenure_months                           38  \n",
       "phone_service                            1  \n",
       "internet_service_type_id                 1  \n",
       "online_security                          1  \n",
       "online_backup                            1  \n",
       "device_protection                       No  \n",
       "tech_support                            No  \n",
       "streaming_tv                             0  \n",
       "streaming_movies                         0  \n",
       "contract_type_id                         1  \n",
       "paperless_billing                        0  \n",
       "payment_type_id                          1  \n",
       "monthly_charges                       54.5  \n",
       "total_charges                      2076.05  \n",
       "churn                                    0  \n",
       "contract_type               Month-to-month  \n",
       "payment_type              Electronic check  \n",
       "internet_service_type                  DSL  \n",
       "Male                                     0  \n",
       "part_depd                                2  \n",
       "tenure_years                          3.17  "
      ]
     },
     "execution_count": 3,
     "metadata": {},
     "output_type": "execute_result"
    }
   ],
   "source": [
    "train.head().T"
   ]
  },
  {
   "cell_type": "markdown",
   "metadata": {},
   "source": [
    "# Exploring Train Dataset\n",
    "- what tenure length cohort(s) are more likely to churn?\n",
    "- features that indicate higher rates of churn?\n",
    "- price point that increases churn rate?\n",
    "- does higher average monthly prices cause higher churn?\n",
    "- does service type influence monthly price?"
   ]
  },
  {
   "cell_type": "markdown",
   "metadata": {},
   "source": [
    "### Categorical vs. Continuous Features\n",
    "- Categorical\n",
    "    - senior citizen\n",
    "    - gender\n",
    "    - phone service\n",
    "    - internet service\n",
    "    - security\n",
    "    - backup\n",
    "    - device protection\n",
    "    - tech support\n",
    "    - streaming\n",
    "    - contract\n",
    "    - partner+dependents\n",
    "    - CHURN (our target variable)\n",
    "- Continuous\n",
    "    - total charges\n",
    "    - monthly charges\n",
    "    - tenure in months\n",
    "    - tenure in years"
   ]
  },
  {
   "cell_type": "code",
   "execution_count": 40,
   "metadata": {},
   "outputs": [
    {
     "data": {
      "text/plain": [
       "<matplotlib.axes._subplots.AxesSubplot at 0x7fcd1b8d0090>"
      ]
     },
     "execution_count": 40,
     "metadata": {},
     "output_type": "execute_result"
    },
    {
     "data": {
      "image/png": "[encoded data removed]",
      "text/plain": [
       "<Figure size 432x288 with 1 Axes>"
      ]
     },
     "metadata": {
      "needs_background": "light"
     },
     "output_type": "display_data"
    }
   ],
   "source": [
    "# distribution of monthly charges\n",
    "sns.distplot(train.monthly_charges)"
   ]
  },
  {
   "cell_type": "markdown",
   "metadata": {},
   "source": [
    "### Tenure by Months\n",
    "- Customers at the beginning are most likely to churn\n",
    "- Customers also leave once they reach 70 months with the company"
   ]
  },
  {
   "cell_type": "code",
   "execution_count": 4,
   "metadata": {},
   "outputs": [
    {
     "data": {
      "image/png": "[encoded data removed]",
      "text/plain": [
       "<Figure size 1008x576 with 1 Axes>"
      ]
     },
     "metadata": {
      "needs_background": "light"
     },
     "output_type": "display_data"
    }
   ],
   "source": [
    "plt.figure(figsize=(14,8))\n",
    "n, bins, patches = plt.hist(train.tenure_months, 30, facecolor='g', align='mid')\n",
    "\n",
    "\n",
    "plt.xlabel('Tenure in Months')\n",
    "plt.ylabel('Count of Customers')\n",
    "plt.title('Histogram of Tenure')\n",
    "plt.xlim(-3, 75)\n",
    "plt.ylim(0, 1000)\n",
    "plt.grid(True)\n",
    "plt.show()"
   ]
  },
  {
   "cell_type": "markdown",
   "metadata": {},
   "source": [
    "### Does security or not cause different rates of churn?\n",
    "- null hypothesis: having online security does not affect churn\n",
    "- alternative hypothesis: having online security affects a customer churning"
   ]
  },
  {
   "cell_type": "code",
   "execution_count": 71,
   "metadata": {},
   "outputs": [
    {
     "name": "stdout",
     "output_type": "stream",
     "text": [
      "Crosstab of churn and security:\n",
      "\n",
      " online_security     0     1\n",
      "churn                      \n",
      "0                2486  1234\n",
      "1                1139   211\n",
      "\n",
      "\n",
      "p =  3.293136414042123e-34\n",
      "\n",
      "Rounded p_value: 0.0\n",
      "\n",
      "p_value is less than alpha, so we can reject our null hyopthesis.\n"
     ]
    }
   ],
   "source": [
    "# support and churn are two categorical features\n",
    "# we can use the chi-square test for this\n",
    "\n",
    "# set alpha first\n",
    "alpha = .05\n",
    "\n",
    "# create a cross table\n",
    "table = pd.crosstab(train.churn, train.online_security)\n",
    "print('Crosstab of churn and security:\\n\\n',table)\n",
    "\n",
    "chi2, p, degf, expected = chi2_contingency(table)\n",
    "\n",
    "print('\\n\\np = ',p)\n",
    "print('\\nRounded p_value:',round(p,2))\n",
    "print('\\np_value is less than alpha, so we can reject our null hyopthesis.')"
   ]
  },
  {
   "cell_type": "markdown",
   "metadata": {},
   "source": [
    "Let's test this feature with a T-test\n",
    "- need one categorical feature and one continuous feature\n",
    "- category as having online security or not\n",
    "- continuous as tenure in months\n",
    "    - null hypothesis: having online security does cause longer tenure in months\n",
    "    - alternative hypothesis: having online security causes a cusomer to have longer tenure in months\n",
    "- One sample, one tailed T-test"
   ]
  },
  {
   "cell_type": "code",
   "execution_count": 99,
   "metadata": {},
   "outputs": [
    {
     "name": "stdout",
     "output_type": "stream",
     "text": [
      "\n",
      "\n",
      "p =  4.0234427284036393e-79\n",
      "\n",
      "Rounded p_value: 0.0\n",
      "\n",
      "p_value is less than alpha, so we can reject our null hyopthesis.\n"
     ]
    },
    {
     "data": {
      "text/plain": [
       "20.011050042043383"
      ]
     },
     "execution_count": 99,
     "metadata": {},
     "output_type": "execute_result"
    }
   ],
   "source": [
    "# first, we have to set alpha\n",
    "alpha = .05\n",
    "\n",
    "# define our population churn (if having internet) and the subpopulation (having online security) tenure\n",
    "# We will not include custoemrs without internet, because they do not have the option for security\n",
    "pop_tenure = train[train.internet_service_type != 'None'].tenure_months\n",
    "security_tenure = train[train.online_security == 1].tenure_months\n",
    "\n",
    "stats, p = ttest_1samp(security_tenure, pop_tenure.mean())\n",
    "\n",
    "print('\\n\\np = ',p/2)\n",
    "print('\\nRounded p_value:',round(p/2,2))\n",
    "print('\\np_value is less than alpha, so we can reject our null hyopthesis.')\n",
    "stats"
   ]
  },
  {
   "cell_type": "markdown",
   "metadata": {},
   "source": [
    "### Does backup or not cause different rates of churn?\n",
    "- null hypothesis: having online backup does not affect churn\n",
    "- alternative hypothesis: having online backup affects a customer churning"
   ]
  }
 ],
 "metadata": {
  "kernelspec": {
   "display_name": "Python 3",
   "language": "python",
   "name": "python3"
  },
  "language_info": {
   "codemirror_mode": {
    "name": "ipython",
    "version": 3
   },
   "file_extension": ".py",
   "mimetype": "text/x-python",
   "name": "python",
   "nbconvert_exporter": "python",
   "pygments_lexer": "ipython3",
   "version": "3.7.6"
  }
 },
 "nbformat": 4,
 "nbformat_minor": 4
}
