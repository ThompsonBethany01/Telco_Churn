{
 "cells": [
  {
   "cell_type": "markdown",
   "metadata": {},
   "source": [
    "# Minimum Viable Product\n",
    "- Can using security and support features alone predict if a customer churns or not?"
   ]
  },
  {
   "cell_type": "code",
   "execution_count": 1,
   "metadata": {},
   "outputs": [
    {
     "name": "stdout",
     "output_type": "stream",
     "text": [
      "Imports complete.\n"
     ]
    }
   ],
   "source": [
    "# python files that contain the functions to aquire and prep the data\n",
    "import acquire\n",
    "import prepare\n",
    "\n",
    "# import python libraries\n",
    "import pandas as pd\n",
    "import numpy as np\n",
    "import matplotlib.pyplot as plt\n",
    "import seaborn as sns\n",
    "\n",
    "#imports for model object and metric functions\n",
    "from sklearn.tree import DecisionTreeClassifier\n",
    "from sklearn.ensemble import RandomForestClassifier\n",
    "from sklearn.neighbors import KNeighborsClassifier\n",
    "from sklearn.metrics import classification_report\n",
    "from sklearn.metrics import confusion_matrix\n",
    "\n",
    "print('Imports complete.')"
   ]
  },
  {
   "cell_type": "code",
   "execution_count": 2,
   "metadata": {},
   "outputs": [
    {
     "name": "stdout",
     "output_type": "stream",
     "text": [
      "No duplicates found.\n",
      "Dummy variables for gender created as \"male\".\n",
      "Yes/No column values changed to boolean, 0 as no and 1 as yes\n",
      "Combined variable for phone_service + multiple lines created.\n",
      "Combined variable for partner + dependents created.\n",
      "Changed streaming tv and movies to 0 for no, 1 for streams.\n",
      "Changed backup and security to 0 for no, 1 for having the feature.\n",
      "Changed protection and support to 0 for no, 1 for having the feature.\n",
      "Added feature for tenure in years.\n",
      "Converted total_charges to float for easier manipulation.\n",
      "Data prep complete.\n",
      "\n",
      "\n",
      "train shape:  (5070, 23) , validate shape:  (1268, 23) , test shape:  (705, 23)\n",
      "\n",
      "train percent:  72.0 , validate percent:  18.0 , test percent:  10.0\n"
     ]
    }
   ],
   "source": [
    "df = acquire.get_churn_data()\n",
    "df = prepare.prep_telco_df(df)\n",
    "train, test, validate = prepare.train_test_validate(df)"
   ]
  },
  {
   "cell_type": "code",
   "execution_count": 3,
   "metadata": {},
   "outputs": [
    {
     "data": {
      "text/html": [
       "<div>\n",
       "<style scoped>\n",
       "    .dataframe tbody tr th:only-of-type {\n",
       "        vertical-align: middle;\n",
       "    }\n",
       "\n",
       "    .dataframe tbody tr th {\n",
       "        vertical-align: top;\n",
       "    }\n",
       "\n",
       "    .dataframe thead th {\n",
       "        text-align: right;\n",
       "    }\n",
       "</style>\n",
       "<table border=\"1\" class=\"dataframe\">\n",
       "  <thead>\n",
       "    <tr style=\"text-align: right;\">\n",
       "      <th></th>\n",
       "      <th>855</th>\n",
       "    </tr>\n",
       "  </thead>\n",
       "  <tbody>\n",
       "    <tr>\n",
       "      <th>customer_id</th>\n",
       "      <td>6923-EFPNL</td>\n",
       "    </tr>\n",
       "    <tr>\n",
       "      <th>senior_citizen</th>\n",
       "      <td>0</td>\n",
       "    </tr>\n",
       "    <tr>\n",
       "      <th>tenure_months</th>\n",
       "      <td>4</td>\n",
       "    </tr>\n",
       "    <tr>\n",
       "      <th>phone_service</th>\n",
       "      <td>2</td>\n",
       "    </tr>\n",
       "    <tr>\n",
       "      <th>internet_service_type_id</th>\n",
       "      <td>1</td>\n",
       "    </tr>\n",
       "    <tr>\n",
       "      <th>online_security</th>\n",
       "      <td>0</td>\n",
       "    </tr>\n",
       "    <tr>\n",
       "      <th>online_backup</th>\n",
       "      <td>0</td>\n",
       "    </tr>\n",
       "    <tr>\n",
       "      <th>device_protection</th>\n",
       "      <td>0</td>\n",
       "    </tr>\n",
       "    <tr>\n",
       "      <th>tech_support</th>\n",
       "      <td>0</td>\n",
       "    </tr>\n",
       "    <tr>\n",
       "      <th>streaming_tv</th>\n",
       "      <td>0</td>\n",
       "    </tr>\n",
       "    <tr>\n",
       "      <th>streaming_movies</th>\n",
       "      <td>0</td>\n",
       "    </tr>\n",
       "    <tr>\n",
       "      <th>contract_type_id</th>\n",
       "      <td>1</td>\n",
       "    </tr>\n",
       "    <tr>\n",
       "      <th>paperless_billing</th>\n",
       "      <td>0</td>\n",
       "    </tr>\n",
       "    <tr>\n",
       "      <th>payment_type_id</th>\n",
       "      <td>4</td>\n",
       "    </tr>\n",
       "    <tr>\n",
       "      <th>monthly_charges</th>\n",
       "      <td>51.75</td>\n",
       "    </tr>\n",
       "    <tr>\n",
       "      <th>total_charges</th>\n",
       "      <td>201.1</td>\n",
       "    </tr>\n",
       "    <tr>\n",
       "      <th>churn</th>\n",
       "      <td>1</td>\n",
       "    </tr>\n",
       "    <tr>\n",
       "      <th>contract_type</th>\n",
       "      <td>Month-to-month</td>\n",
       "    </tr>\n",
       "    <tr>\n",
       "      <th>payment_type</th>\n",
       "      <td>Credit card (automatic)</td>\n",
       "    </tr>\n",
       "    <tr>\n",
       "      <th>internet_service_type</th>\n",
       "      <td>DSL</td>\n",
       "    </tr>\n",
       "    <tr>\n",
       "      <th>Male</th>\n",
       "      <td>1</td>\n",
       "    </tr>\n",
       "    <tr>\n",
       "      <th>part_depd</th>\n",
       "      <td>0</td>\n",
       "    </tr>\n",
       "    <tr>\n",
       "      <th>tenure_years</th>\n",
       "      <td>0.33</td>\n",
       "    </tr>\n",
       "  </tbody>\n",
       "</table>\n",
       "</div>"
      ],
      "text/plain": [
       "                                              855\n",
       "customer_id                            6923-EFPNL\n",
       "senior_citizen                                  0\n",
       "tenure_months                                   4\n",
       "phone_service                                   2\n",
       "internet_service_type_id                        1\n",
       "online_security                                 0\n",
       "online_backup                                   0\n",
       "device_protection                               0\n",
       "tech_support                                    0\n",
       "streaming_tv                                    0\n",
       "streaming_movies                                0\n",
       "contract_type_id                                1\n",
       "paperless_billing                               0\n",
       "payment_type_id                                 4\n",
       "monthly_charges                             51.75\n",
       "total_charges                               201.1\n",
       "churn                                           1\n",
       "contract_type                      Month-to-month\n",
       "payment_type              Credit card (automatic)\n",
       "internet_service_type                         DSL\n",
       "Male                                            1\n",
       "part_depd                                       0\n",
       "tenure_years                                 0.33"
      ]
     },
     "execution_count": 3,
     "metadata": {},
     "output_type": "execute_result"
    }
   ],
   "source": [
    "train.head(1).T"
   ]
  },
  {
   "cell_type": "code",
   "execution_count": 4,
   "metadata": {},
   "outputs": [],
   "source": [
    "# our predictor/independent features split into train, test, validate\n",
    "X_train = train.drop(columns = ['customer_id','churn','contract_type','payment_type','internet_service_type'],axis=1)\n",
    "X_validate = validate.drop(columns = ['customer_id','churn','contract_type','payment_type','internet_service_type'],axis=1)\n",
    "X_test = test.drop(columns = ['customer_id','churn','contract_type','payment_type','internet_service_type'],axis=1)\n",
    "\n",
    "# our target variables split into train, test, validate\n",
    "y_train = train.churn\n",
    "y_validate = validate.churn\n",
    "y_test = test.churn"
   ]
  },
  {
   "cell_type": "markdown",
   "metadata": {},
   "source": [
    "# Creating the baseline\n",
    "- will use as the comparison for the model created"
   ]
  },
  {
   "cell_type": "code",
   "execution_count": 5,
   "metadata": {},
   "outputs": [
    {
     "data": {
      "text/plain": [
       "0    3720\n",
       "1    1350\n",
       "Name: churn, dtype: int64"
      ]
     },
     "execution_count": 5,
     "metadata": {},
     "output_type": "execute_result"
    }
   ],
   "source": [
    "# most of our customers are still with the company (0 = has not churned)\n",
    "y_train.value_counts()"
   ]
  },
  {
   "cell_type": "code",
   "execution_count": 6,
   "metadata": {},
   "outputs": [
    {
     "data": {
      "text/html": [
       "<div>\n",
       "<style scoped>\n",
       "    .dataframe tbody tr th:only-of-type {\n",
       "        vertical-align: middle;\n",
       "    }\n",
       "\n",
       "    .dataframe tbody tr th {\n",
       "        vertical-align: top;\n",
       "    }\n",
       "\n",
       "    .dataframe thead th {\n",
       "        text-align: right;\n",
       "    }\n",
       "</style>\n",
       "<table border=\"1\" class=\"dataframe\">\n",
       "  <thead>\n",
       "    <tr style=\"text-align: right;\">\n",
       "      <th></th>\n",
       "      <th>actual</th>\n",
       "      <th>baseline</th>\n",
       "    </tr>\n",
       "  </thead>\n",
       "  <tbody>\n",
       "    <tr>\n",
       "      <th>855</th>\n",
       "      <td>1</td>\n",
       "      <td>0</td>\n",
       "    </tr>\n",
       "    <tr>\n",
       "      <th>2823</th>\n",
       "      <td>1</td>\n",
       "      <td>0</td>\n",
       "    </tr>\n",
       "    <tr>\n",
       "      <th>5656</th>\n",
       "      <td>0</td>\n",
       "      <td>0</td>\n",
       "    </tr>\n",
       "    <tr>\n",
       "      <th>1016</th>\n",
       "      <td>0</td>\n",
       "      <td>0</td>\n",
       "    </tr>\n",
       "    <tr>\n",
       "      <th>1175</th>\n",
       "      <td>0</td>\n",
       "      <td>0</td>\n",
       "    </tr>\n",
       "  </tbody>\n",
       "</table>\n",
       "</div>"
      ],
      "text/plain": [
       "      actual  baseline\n",
       "855        1         0\n",
       "2823       1         0\n",
       "5656       0         0\n",
       "1016       0         0\n",
       "1175       0         0"
      ]
     },
     "execution_count": 6,
     "metadata": {},
     "output_type": "execute_result"
    }
   ],
   "source": [
    "baseline = pd.DataFrame(y_train)\n",
    "baseline['baseline'] = 0\n",
    "\n",
    "baseline.columns = ['actual','baseline']\n",
    "baseline.head()"
   ]
  },
  {
   "cell_type": "code",
   "execution_count": 7,
   "metadata": {},
   "outputs": [
    {
     "data": {
      "text/html": [
       "<div>\n",
       "<style scoped>\n",
       "    .dataframe tbody tr th:only-of-type {\n",
       "        vertical-align: middle;\n",
       "    }\n",
       "\n",
       "    .dataframe tbody tr th {\n",
       "        vertical-align: top;\n",
       "    }\n",
       "\n",
       "    .dataframe thead th {\n",
       "        text-align: right;\n",
       "    }\n",
       "</style>\n",
       "<table border=\"1\" class=\"dataframe\">\n",
       "  <thead>\n",
       "    <tr style=\"text-align: right;\">\n",
       "      <th>actual</th>\n",
       "      <th>0</th>\n",
       "      <th>1</th>\n",
       "    </tr>\n",
       "    <tr>\n",
       "      <th>baseline</th>\n",
       "      <th></th>\n",
       "      <th></th>\n",
       "    </tr>\n",
       "  </thead>\n",
       "  <tbody>\n",
       "    <tr>\n",
       "      <th>0</th>\n",
       "      <td>3720</td>\n",
       "      <td>1350</td>\n",
       "    </tr>\n",
       "  </tbody>\n",
       "</table>\n",
       "</div>"
      ],
      "text/plain": [
       "actual       0     1\n",
       "baseline            \n",
       "0         3720  1350"
      ]
     },
     "execution_count": 7,
     "metadata": {},
     "output_type": "execute_result"
    }
   ],
   "source": [
    "# cross tab of our baseline versus actual\n",
    "pd.crosstab(baseline['baseline'], baseline['actual'])"
   ]
  },
  {
   "cell_type": "code",
   "execution_count": 8,
   "metadata": {},
   "outputs": [
    {
     "name": "stdout",
     "output_type": "stream",
     "text": [
      "The baseline model is 73.37 percent.\n"
     ]
    }
   ],
   "source": [
    "# let's calculate the accuracy\n",
    "# positive will be not churned\n",
    "# (TP + TN) / (TP + TN + FP + FN)\n",
    "\n",
    "#predicting not churned and the customer has not churned\n",
    "TP = 3720\n",
    "\n",
    "#predicting not churned and the customer has churned\n",
    "FP = 1350\n",
    "\n",
    "#predicting the customer has churned and they have churned\n",
    "TN = 0\n",
    "\n",
    "#predicting the customer has churned and they have not churned\n",
    "FN = 0\n",
    "\n",
    "base_acc = (TP + TN) / (TP + TN + FP + FN)\n",
    "\n",
    "print(\"The baseline model is\",round(base_acc * 100, 2),\"percent.\")"
   ]
  },
  {
   "cell_type": "code",
   "execution_count": 9,
   "metadata": {},
   "outputs": [
    {
     "name": "stdout",
     "output_type": "stream",
     "text": [
      "Accuracy of model with all features: 0.9976331360946745\n",
      "\n",
      "The confusion matrix:\n",
      " [[3720    0]\n",
      " [  12 1338]]\n",
      "\n",
      "Classification report:\n",
      "               precision    recall  f1-score   support\n",
      "\n",
      "           0       1.00      1.00      1.00      3720\n",
      "           1       1.00      0.99      1.00      1350\n",
      "\n",
      "    accuracy                           1.00      5070\n",
      "   macro avg       1.00      1.00      1.00      5070\n",
      "weighted avg       1.00      1.00      1.00      5070\n",
      "\n"
     ]
    }
   ],
   "source": [
    "clf = DecisionTreeClassifier()\n",
    "\n",
    "clf.fit(X_train, y_train)\n",
    "\n",
    "y_pred = clf.predict(X_train)\n",
    "y_pred_proba = clf.predict_proba(X_train)\n",
    "\n",
    "#evaluate metrics\n",
    "print('Accuracy of model with all features:', clf.score(X_train, y_train))\n",
    "print('\\nThe confusion matrix:\\n',confusion_matrix(y_train, y_pred))\n",
    "print('\\nClassification report:\\n',classification_report(y_train, y_pred))"
   ]
  },
  {
   "cell_type": "markdown",
   "metadata": {},
   "source": [
    "# Using all features is probably overfitting to the train. Let's narrow it down to...\n",
    "- tech support\n",
    "- device protection\n",
    "- online security\n",
    "- online backup\n",
    "    - these are all feautres for internet only, but I feel could be added as on option for phone service as well"
   ]
  },
  {
   "cell_type": "code",
   "execution_count": 10,
   "metadata": {},
   "outputs": [],
   "source": [
    "# our predictor/independent features split into train, test, validate\n",
    "X_train = train[['tech_support','online_security','device_protection','online_backup']]\n",
    "X_validate = validate[['tech_support','online_security','device_protection','online_backup']]\n",
    "X_test = test[['tech_support','online_security','device_protection','online_backup']]\n",
    "\n",
    "y_train = train.churn\n",
    "y_validate = validate.churn\n",
    "y_test = test.churn"
   ]
  },
  {
   "cell_type": "code",
   "execution_count": 11,
   "metadata": {},
   "outputs": [
    {
     "name": "stdout",
     "output_type": "stream",
     "text": [
      "Accuracy of Decision Tree model with support/security/protection: 0.7337278106508875\n",
      "\n",
      "The confusion matrix:\n",
      " [[3720    0]\n",
      " [1350    0]]\n",
      "\n",
      "Classification report:\n",
      "               precision    recall  f1-score   support\n",
      "\n",
      "           0       0.73      1.00      0.85      3720\n",
      "           1       0.00      0.00      0.00      1350\n",
      "\n",
      "    accuracy                           0.73      5070\n",
      "   macro avg       0.37      0.50      0.42      5070\n",
      "weighted avg       0.54      0.73      0.62      5070\n",
      "\n"
     ]
    },
    {
     "name": "stderr",
     "output_type": "stream",
     "text": [
      "/usr/local/anaconda3/lib/python3.7/site-packages/sklearn/metrics/_classification.py:1272: UndefinedMetricWarning: Precision and F-score are ill-defined and being set to 0.0 in labels with no predicted samples. Use `zero_division` parameter to control this behavior.\n",
      "  _warn_prf(average, modifier, msg_start, len(result))\n"
     ]
    }
   ],
   "source": [
    "clf = DecisionTreeClassifier()\n",
    "\n",
    "clf.fit(X_train, y_train)\n",
    "\n",
    "y_pred = clf.predict(X_train)\n",
    "y_pred_proba = clf.predict_proba(X_train)\n",
    "\n",
    "#evaluate metrics\n",
    "print('Accuracy of Decision Tree model with support/security/protection:', clf.score(X_train, y_train))\n",
    "print('\\nThe confusion matrix:\\n',confusion_matrix(y_train, y_pred))\n",
    "print('\\nClassification report:\\n',classification_report(y_train, y_pred))"
   ]
  },
  {
   "cell_type": "code",
   "execution_count": 12,
   "metadata": {},
   "outputs": [
    {
     "name": "stdout",
     "output_type": "stream",
     "text": [
      "Accuracy of Random Forest model with support/security/protection: 0.7337278106508875\n",
      "\n",
      "The confusion matrix:\n",
      " [[3720    0]\n",
      " [1350    0]]\n",
      "\n",
      "Classification report:\n",
      "               precision    recall  f1-score   support\n",
      "\n",
      "           0       0.73      1.00      0.85      3720\n",
      "           1       0.00      0.00      0.00      1350\n",
      "\n",
      "    accuracy                           0.73      5070\n",
      "   macro avg       0.37      0.50      0.42      5070\n",
      "weighted avg       0.54      0.73      0.62      5070\n",
      "\n"
     ]
    },
    {
     "name": "stderr",
     "output_type": "stream",
     "text": [
      "/usr/local/anaconda3/lib/python3.7/site-packages/sklearn/metrics/_classification.py:1272: UndefinedMetricWarning: Precision and F-score are ill-defined and being set to 0.0 in labels with no predicted samples. Use `zero_division` parameter to control this behavior.\n",
      "  _warn_prf(average, modifier, msg_start, len(result))\n"
     ]
    }
   ],
   "source": [
    "rf = RandomForestClassifier()\n",
    "\n",
    "rf.fit(X_train, y_train)\n",
    "\n",
    "y_pred = rf.predict(X_train)\n",
    "\n",
    "y_pred_proba = rf.predict_proba(X_train)\n",
    "\n",
    "print('Accuracy of Random Forest model with support/security/protection:',rf.score(X_train, y_train))\n",
    "print('\\nThe confusion matrix:\\n',confusion_matrix(y_train, y_pred))\n",
    "print('\\nClassification report:\\n',classification_report(y_train, y_pred))"
   ]
  },
  {
   "cell_type": "code",
   "execution_count": 13,
   "metadata": {},
   "outputs": [
    {
     "name": "stdout",
     "output_type": "stream",
     "text": [
      "Accuracy of KNN model with support/security/protection: 0.7199211045364892\n",
      "\n",
      "The confusion matrix:\n",
      " [[3560  160]\n",
      " [1260   90]]\n",
      "\n",
      "Classification report:\n",
      "               precision    recall  f1-score   support\n",
      "\n",
      "           0       0.74      0.96      0.83      3720\n",
      "           1       0.36      0.07      0.11      1350\n",
      "\n",
      "    accuracy                           0.72      5070\n",
      "   macro avg       0.55      0.51      0.47      5070\n",
      "weighted avg       0.64      0.72      0.64      5070\n",
      "\n"
     ]
    }
   ],
   "source": [
    "knn = KNeighborsClassifier(n_neighbors=10)\n",
    "\n",
    "knn.fit(X_train, y_train)\n",
    "\n",
    "y_pred = knn.predict(X_train)\n",
    "\n",
    "y_pred_proba = knn.predict_proba(X_train)\n",
    "\n",
    "print('Accuracy of KNN model with support/security/protection:',knn.score(X_train, y_train))\n",
    "print('\\nThe confusion matrix:\\n',confusion_matrix(y_train, y_pred))\n",
    "print('\\nClassification report:\\n',classification_report(y_train, y_pred))"
   ]
  },
  {
   "cell_type": "markdown",
   "metadata": {},
   "source": [
    "# Takeaways\n",
    "- online features are not enough to predict churn\n",
    "- DF and RF overfit, only predict positive\n",
    "- KNN overfits if k > 13, and accuracy is still less than baseline\n",
    "- let's add more features"
   ]
  },
  {
   "cell_type": "code",
   "execution_count": 14,
   "metadata": {},
   "outputs": [],
   "source": [
    "# our predictor/independent features split into train, test, validate\n",
    "X_train = train[['streaming_movies','streaming_tv','tech_support','online_security','device_protection','online_backup']]\n",
    "X_validate = validate[['streaming_movies','streaming_tv','tech_support','online_security','device_protection','online_backup']]\n",
    "X_test = test[['streaming_movies','streaming_tv','tech_support','online_security','device_protection','online_backup']]\n",
    "\n",
    "y_train = train.churn\n",
    "y_validate = validate.churn\n",
    "y_test = test.churn"
   ]
  },
  {
   "cell_type": "code",
   "execution_count": 15,
   "metadata": {},
   "outputs": [
    {
     "name": "stdout",
     "output_type": "stream",
     "text": [
      "Accuracy of Decision Tree model with support/security/protection/streaming on Train: 0.7512820512820513\n",
      "\n",
      "The confusion matrix:\n",
      " [[3548  172]\n",
      " [1089  261]]\n",
      "\n",
      "Classification report:\n",
      "               precision    recall  f1-score   support\n",
      "\n",
      "           0       0.77      0.95      0.85      3720\n",
      "           1       0.60      0.19      0.29      1350\n",
      "\n",
      "    accuracy                           0.75      5070\n",
      "   macro avg       0.68      0.57      0.57      5070\n",
      "weighted avg       0.72      0.75      0.70      5070\n",
      "\n"
     ]
    }
   ],
   "source": [
    "clf = DecisionTreeClassifier(max_depth = 5)\n",
    "\n",
    "clf.fit(X_train, y_train)\n",
    "\n",
    "y_pred = clf.predict(X_train)\n",
    "y_pred_proba = clf.predict_proba(X_train)\n",
    "\n",
    "#evaluate metrics\n",
    "print('Accuracy of Decision Tree model with support/security/protection/streaming on Train:', clf.score(X_train, y_train))\n",
    "print('\\nThe confusion matrix:\\n',confusion_matrix(y_train, y_pred))\n",
    "print('\\nClassification report:\\n',classification_report(y_train, y_pred))"
   ]
  },
  {
   "cell_type": "code",
   "execution_count": 16,
   "metadata": {},
   "outputs": [
    {
     "name": "stdout",
     "output_type": "stream",
     "text": [
      "Accuracy of Random Forest model with support/security/protection/streaming on Train: 0.7510848126232742\n",
      "\n",
      "The confusion matrix:\n",
      " [[3559  161]\n",
      " [1101  249]]\n",
      "\n",
      "Classification report:\n",
      "               precision    recall  f1-score   support\n",
      "\n",
      "           0       0.76      0.96      0.85      3720\n",
      "           1       0.61      0.18      0.28      1350\n",
      "\n",
      "    accuracy                           0.75      5070\n",
      "   macro avg       0.69      0.57      0.57      5070\n",
      "weighted avg       0.72      0.75      0.70      5070\n",
      "\n"
     ]
    }
   ],
   "source": [
    "rf = RandomForestClassifier(max_depth=5)\n",
    "\n",
    "rf.fit(X_train, y_train)\n",
    "\n",
    "y_pred = rf.predict(X_train)\n",
    "\n",
    "y_pred_proba = rf.predict_proba(X_train)\n",
    "\n",
    "print('Accuracy of Random Forest model with support/security/protection/streaming on Train:',rf.score(X_train, y_train))\n",
    "print('\\nThe confusion matrix:\\n',confusion_matrix(y_train, y_pred))\n",
    "print('\\nClassification report:\\n',classification_report(y_train, y_pred))"
   ]
  },
  {
   "cell_type": "code",
   "execution_count": 17,
   "metadata": {},
   "outputs": [
    {
     "name": "stdout",
     "output_type": "stream",
     "text": [
      "Accuracy of KNN model with support/security/protection/streaming on Train: 0.7406311637080868\n",
      "\n",
      "The confusion matrix:\n",
      " [[3643   77]\n",
      " [1238  112]]\n",
      "\n",
      "Classification report:\n",
      "               precision    recall  f1-score   support\n",
      "\n",
      "           0       0.75      0.98      0.85      3720\n",
      "           1       0.59      0.08      0.15      1350\n",
      "\n",
      "    accuracy                           0.74      5070\n",
      "   macro avg       0.67      0.53      0.50      5070\n",
      "weighted avg       0.71      0.74      0.66      5070\n",
      "\n"
     ]
    }
   ],
   "source": [
    "knn = KNeighborsClassifier(n_neighbors=10)\n",
    "\n",
    "knn.fit(X_train, y_train)\n",
    "\n",
    "y_pred = knn.predict(X_train)\n",
    "\n",
    "y_pred_proba = knn.predict_proba(X_train)\n",
    "\n",
    "print('Accuracy of KNN model with support/security/protection/streaming on Train:',knn.score(X_train, y_train))\n",
    "print('\\nThe confusion matrix:\\n',confusion_matrix(y_train, y_pred))\n",
    "print('\\nClassification report:\\n',classification_report(y_train, y_pred))"
   ]
  },
  {
   "cell_type": "markdown",
   "metadata": {},
   "source": [
    "# Takeaways\n",
    "- model appears to work with additional features of streaming tv and streaming movies\n",
    "- tuning parameters with validate"
   ]
  },
  {
   "cell_type": "markdown",
   "metadata": {},
   "source": [
    "### Decision Tree"
   ]
  },
  {
   "cell_type": "code",
   "execution_count": 18,
   "metadata": {},
   "outputs": [
    {
     "name": "stdout",
     "output_type": "stream",
     "text": [
      "Accuracy of Decision Tree model with support/security/protection/streaming on Validate: 0.7512820512820513\n"
     ]
    }
   ],
   "source": [
    "#y_pred = clf.predict(X_validate)\n",
    "#y_pred_proba = clf.predict_proba(X_validate)\n",
    "\n",
    "#evaluate metrics\n",
    "print('Accuracy of Decision Tree model with support/security/protection/streaming on Validate:', clf.score(X_train, y_train))\n",
    "#print('\\nThe confusion matrix:\\n',confusion_matrix(y_validate, y_pred))\n",
    "#print('\\nClassification report:\\n',classification_report(y_validate, y_pred))"
   ]
  },
  {
   "cell_type": "markdown",
   "metadata": {},
   "source": [
    "### Random Forest"
   ]
  },
  {
   "cell_type": "code",
   "execution_count": 19,
   "metadata": {},
   "outputs": [
    {
     "name": "stdout",
     "output_type": "stream",
     "text": [
      "Accuracy of Random Forest model with support/security/protection/streaming on Validate: 0.7687943262411348\n"
     ]
    }
   ],
   "source": [
    "#y_pred = rf.predict(X_validate)\n",
    "\n",
    "#y_pred_proba = rf.predict_proba(X_validate)\n",
    "\n",
    "print('Accuracy of Random Forest model with support/security/protection/streaming on Validate:',rf.score(X_validate, y_validate))\n",
    "#print('\\nThe confusion matrix:\\n',confusion_matrix(y_validate, y_pred))\n",
    "#print('\\nClassification report:\\n',classification_report(y_validate, y_pred))"
   ]
  },
  {
   "cell_type": "markdown",
   "metadata": {},
   "source": [
    "### KNN"
   ]
  },
  {
   "cell_type": "code",
   "execution_count": 20,
   "metadata": {},
   "outputs": [
    {
     "name": "stdout",
     "output_type": "stream",
     "text": [
      "Accuracy of KNN model with support/security/protection/streaming on Validate: 0.7432624113475177\n"
     ]
    }
   ],
   "source": [
    "#y_pred = knn.predict(X_validate)\n",
    "\n",
    "#y_pred_proba = knn.predict_proba(X_validate)\n",
    "\n",
    "print('Accuracy of KNN model with support/security/protection/streaming on Validate:',knn.score(X_validate, y_validate))\n",
    "#print('\\nThe confusion matrix:\\n',confusion_matrix(y_validate, y_pred))\n",
    "#print('\\nClassification report:\\n',classification_report(y_validate, y_pred))"
   ]
  },
  {
   "cell_type": "markdown",
   "metadata": {},
   "source": [
    "# Takeaways\n",
    "- The Random Forest is the most accurate on the train and validate data sets\n",
    "- But is it over fitting? Check with the test data"
   ]
  },
  {
   "cell_type": "code",
   "execution_count": 21,
   "metadata": {},
   "outputs": [
    {
     "name": "stdout",
     "output_type": "stream",
     "text": [
      "Accuracy of Random Forest model with support/security/protection/streaming on Test: 0.7586750788643533\n"
     ]
    }
   ],
   "source": [
    "print('Accuracy of Random Forest model with support/security/protection/streaming on Test:',rf.score(X_test, y_test))"
   ]
  }
 ],
 "metadata": {
  "kernelspec": {
   "display_name": "Python 3",
   "language": "python",
   "name": "python3"
  },
  "language_info": {
   "codemirror_mode": {
    "name": "ipython",
    "version": 3
   },
   "file_extension": ".py",
   "mimetype": "text/x-python",
   "name": "python",
   "nbconvert_exporter": "python",
   "pygments_lexer": "ipython3",
   "version": "3.7.6"
  }
 },
 "nbformat": 4,
 "nbformat_minor": 4
}
